{
  "nbformat": 4,
  "nbformat_minor": 0,
  "metadata": {
    "colab": {
      "name": "Incident_model_linear_model_assumptions_final1.ipynb",
      "provenance": [],
      "collapsed_sections": [],
      "include_colab_link": true
    },
    "kernelspec": {
      "name": "python3",
      "display_name": "Python 3"
    },
    "accelerator": "GPU"
  },
  "cells": [
    {
      "cell_type": "markdown",
      "metadata": {
        "id": "view-in-github",
        "colab_type": "text"
      },
      "source": [
        "<a href=\"https://colab.research.google.com/github/swaty369/Incident-Management-System/blob/final_files/Incident_model_linear_model_assumptions_final1.ipynb\" target=\"_parent\"><img src=\"https://colab.research.google.com/assets/colab-badge.svg\" alt=\"Open In Colab\"/></a>"
      ]
    },
    {
      "cell_type": "code",
      "metadata": {
        "id": "CcMWqIUM-OJ-",
        "outputId": "92854fc3-bc5f-4ff6-978e-fd66532b7fc9",
        "colab": {
          "base_uri": "https://localhost:8080/"
        }
      },
      "source": [
        "# mount drive\n",
        "from google.colab import drive\n",
        "drive.mount('/content/drive')"
      ],
      "execution_count": 2,
      "outputs": [
        {
          "output_type": "stream",
          "text": [
            "Drive already mounted at /content/drive; to attempt to forcibly remount, call drive.mount(\"/content/drive\", force_remount=True).\n"
          ],
          "name": "stdout"
        }
      ]
    },
    {
      "cell_type": "code",
      "metadata": {
        "id": "vk_PmAxJ9BQQ",
        "outputId": "591ab0a0-ac22-4859-c433-25deb7f14660",
        "colab": {
          "base_uri": "https://localhost:8080/"
        }
      },
      "source": [
        "import pandas as pd\n",
        "import numpy as np\n",
        "import seaborn as sns\n",
        "import matplotlib.pyplot as plt\n",
        "import datetime as dt\n",
        "from sklearn.preprocessing import LabelEncoder, StandardScaler\n",
        "from sklearn.model_selection import train_test_split\n",
        "from sklearn.metrics import accuracy_score, classification_report, confusion_matrix\n",
        "import statsmodels.api as sm\n",
        "import warnings\n",
        "warnings.filterwarnings(\"ignore\")"
      ],
      "execution_count": 3,
      "outputs": [
        {
          "output_type": "stream",
          "text": [
            "/usr/local/lib/python3.6/dist-packages/statsmodels/tools/_testing.py:19: FutureWarning: pandas.util.testing is deprecated. Use the functions in the public API at pandas.testing instead.\n",
            "  import pandas.util.testing as tm\n"
          ],
          "name": "stderr"
        }
      ]
    },
    {
      "cell_type": "code",
      "metadata": {
        "id": "WU7_z1CL9HMJ",
        "outputId": "a05d6bde-d620-42e6-a916-2f0e57aacabe",
        "colab": {
          "base_uri": "https://localhost:8080/",
          "height": 217
        }
      },
      "source": [
        "data=pd.read_csv(\"/content/drive/My Drive/GL Capstone/df11_encoded_and_numerical_without_scale.csv\")\n",
        "#data = pd.read_csv('https://drive.google.com/file/d/1caHdL5aeSMoaLyNJaXgy4uCQNTYODIu7/view?usp=sharing')\n",
        "data.head()"
      ],
      "execution_count": 7,
      "outputs": [
        {
          "output_type": "execute_result",
          "data": {
            "text/html": [
              "<div>\n",
              "<style scoped>\n",
              "    .dataframe tbody tr th:only-of-type {\n",
              "        vertical-align: middle;\n",
              "    }\n",
              "\n",
              "    .dataframe tbody tr th {\n",
              "        vertical-align: top;\n",
              "    }\n",
              "\n",
              "    .dataframe thead th {\n",
              "        text-align: right;\n",
              "    }\n",
              "</style>\n",
              "<table border=\"1\" class=\"dataframe\">\n",
              "  <thead>\n",
              "    <tr style=\"text-align: right;\">\n",
              "      <th></th>\n",
              "      <th>reassignment_count</th>\n",
              "      <th>reopen_count</th>\n",
              "      <th>sys_mod_count</th>\n",
              "      <th>predicted_closed_days</th>\n",
              "      <th>days_took_to_sys_created</th>\n",
              "      <th>days_took_to_sys_updated</th>\n",
              "      <th>days_took_to_resolve</th>\n",
              "      <th>days_took_to_close</th>\n",
              "      <th>opened_month</th>\n",
              "      <th>opened_day</th>\n",
              "      <th>opened_hour</th>\n",
              "      <th>opened_minute</th>\n",
              "      <th>sys_updated_month</th>\n",
              "      <th>sys_updated_day</th>\n",
              "      <th>sys_updated_hour</th>\n",
              "      <th>sys_updated_minute</th>\n",
              "      <th>closed_month</th>\n",
              "      <th>closed_day</th>\n",
              "      <th>closed_hour</th>\n",
              "      <th>closed_minute</th>\n",
              "      <th>sys_created_month</th>\n",
              "      <th>sys_created_day</th>\n",
              "      <th>sys_created_hour</th>\n",
              "      <th>sys_created_minute</th>\n",
              "      <th>resolved_month</th>\n",
              "      <th>resolved_day</th>\n",
              "      <th>resolved_hour</th>\n",
              "      <th>resolved_minute</th>\n",
              "      <th>number</th>\n",
              "      <th>incident_state</th>\n",
              "      <th>active</th>\n",
              "      <th>made_sla</th>\n",
              "      <th>opened_by</th>\n",
              "      <th>sys_created_by</th>\n",
              "      <th>sys_updated_by</th>\n",
              "      <th>contact_type</th>\n",
              "      <th>location</th>\n",
              "      <th>category</th>\n",
              "      <th>subcategory</th>\n",
              "      <th>u_symptom</th>\n",
              "      <th>impact</th>\n",
              "      <th>urgency</th>\n",
              "      <th>priority</th>\n",
              "      <th>assignment_group</th>\n",
              "      <th>assigned_to</th>\n",
              "      <th>knowledge</th>\n",
              "      <th>u_priority_confirmation</th>\n",
              "      <th>notify</th>\n",
              "      <th>resolved_by</th>\n",
              "    </tr>\n",
              "  </thead>\n",
              "  <tbody>\n",
              "    <tr>\n",
              "      <th>0</th>\n",
              "      <td>0.0</td>\n",
              "      <td>0</td>\n",
              "      <td>0.000000</td>\n",
              "      <td>5.447222</td>\n",
              "      <td>0.004861</td>\n",
              "      <td>0.000000</td>\n",
              "      <td>0.420833</td>\n",
              "      <td>5.021528</td>\n",
              "      <td>2</td>\n",
              "      <td>29</td>\n",
              "      <td>1</td>\n",
              "      <td>16</td>\n",
              "      <td>2</td>\n",
              "      <td>29</td>\n",
              "      <td>1</td>\n",
              "      <td>23</td>\n",
              "      <td>3</td>\n",
              "      <td>5</td>\n",
              "      <td>12</td>\n",
              "      <td>0</td>\n",
              "      <td>2</td>\n",
              "      <td>29</td>\n",
              "      <td>1</td>\n",
              "      <td>23</td>\n",
              "      <td>2</td>\n",
              "      <td>29</td>\n",
              "      <td>11</td>\n",
              "      <td>29</td>\n",
              "      <td>0</td>\n",
              "      <td>6</td>\n",
              "      <td>0</td>\n",
              "      <td>1</td>\n",
              "      <td>199</td>\n",
              "      <td>151</td>\n",
              "      <td>95</td>\n",
              "      <td>2</td>\n",
              "      <td>42</td>\n",
              "      <td>45</td>\n",
              "      <td>68</td>\n",
              "      <td>499</td>\n",
              "      <td>1</td>\n",
              "      <td>1</td>\n",
              "      <td>2</td>\n",
              "      <td>47</td>\n",
              "      <td>72</td>\n",
              "      <td>1</td>\n",
              "      <td>0</td>\n",
              "      <td>0</td>\n",
              "      <td>51</td>\n",
              "    </tr>\n",
              "    <tr>\n",
              "      <th>1</th>\n",
              "      <td>0.0</td>\n",
              "      <td>0</td>\n",
              "      <td>0.000000</td>\n",
              "      <td>6.222222</td>\n",
              "      <td>0.011806</td>\n",
              "      <td>0.000000</td>\n",
              "      <td>1.204861</td>\n",
              "      <td>5.005556</td>\n",
              "      <td>2</td>\n",
              "      <td>29</td>\n",
              "      <td>4</td>\n",
              "      <td>40</td>\n",
              "      <td>2</td>\n",
              "      <td>29</td>\n",
              "      <td>4</td>\n",
              "      <td>57</td>\n",
              "      <td>3</td>\n",
              "      <td>6</td>\n",
              "      <td>10</td>\n",
              "      <td>0</td>\n",
              "      <td>2</td>\n",
              "      <td>29</td>\n",
              "      <td>4</td>\n",
              "      <td>57</td>\n",
              "      <td>3</td>\n",
              "      <td>1</td>\n",
              "      <td>9</td>\n",
              "      <td>52</td>\n",
              "      <td>1</td>\n",
              "      <td>6</td>\n",
              "      <td>0</td>\n",
              "      <td>1</td>\n",
              "      <td>120</td>\n",
              "      <td>58</td>\n",
              "      <td>548</td>\n",
              "      <td>2</td>\n",
              "      <td>61</td>\n",
              "      <td>29</td>\n",
              "      <td>111</td>\n",
              "      <td>351</td>\n",
              "      <td>1</td>\n",
              "      <td>1</td>\n",
              "      <td>2</td>\n",
              "      <td>63</td>\n",
              "      <td>220</td>\n",
              "      <td>1</td>\n",
              "      <td>0</td>\n",
              "      <td>0</td>\n",
              "      <td>196</td>\n",
              "    </tr>\n",
              "    <tr>\n",
              "      <th>2</th>\n",
              "      <td>1.0</td>\n",
              "      <td>0</td>\n",
              "      <td>1.000000</td>\n",
              "      <td>6.222222</td>\n",
              "      <td>0.011806</td>\n",
              "      <td>0.022917</td>\n",
              "      <td>1.181944</td>\n",
              "      <td>5.005556</td>\n",
              "      <td>2</td>\n",
              "      <td>29</td>\n",
              "      <td>4</td>\n",
              "      <td>40</td>\n",
              "      <td>2</td>\n",
              "      <td>29</td>\n",
              "      <td>5</td>\n",
              "      <td>30</td>\n",
              "      <td>3</td>\n",
              "      <td>6</td>\n",
              "      <td>10</td>\n",
              "      <td>0</td>\n",
              "      <td>2</td>\n",
              "      <td>29</td>\n",
              "      <td>4</td>\n",
              "      <td>57</td>\n",
              "      <td>3</td>\n",
              "      <td>1</td>\n",
              "      <td>9</td>\n",
              "      <td>52</td>\n",
              "      <td>1</td>\n",
              "      <td>1</td>\n",
              "      <td>0</td>\n",
              "      <td>1</td>\n",
              "      <td>120</td>\n",
              "      <td>58</td>\n",
              "      <td>95</td>\n",
              "      <td>2</td>\n",
              "      <td>61</td>\n",
              "      <td>29</td>\n",
              "      <td>111</td>\n",
              "      <td>351</td>\n",
              "      <td>1</td>\n",
              "      <td>1</td>\n",
              "      <td>2</td>\n",
              "      <td>15</td>\n",
              "      <td>164</td>\n",
              "      <td>1</td>\n",
              "      <td>0</td>\n",
              "      <td>0</td>\n",
              "      <td>196</td>\n",
              "    </tr>\n",
              "    <tr>\n",
              "      <th>3</th>\n",
              "      <td>1.0</td>\n",
              "      <td>0</td>\n",
              "      <td>1.414214</td>\n",
              "      <td>6.222222</td>\n",
              "      <td>0.011806</td>\n",
              "      <td>0.025000</td>\n",
              "      <td>1.179861</td>\n",
              "      <td>5.005556</td>\n",
              "      <td>2</td>\n",
              "      <td>29</td>\n",
              "      <td>4</td>\n",
              "      <td>40</td>\n",
              "      <td>2</td>\n",
              "      <td>29</td>\n",
              "      <td>5</td>\n",
              "      <td>33</td>\n",
              "      <td>3</td>\n",
              "      <td>6</td>\n",
              "      <td>10</td>\n",
              "      <td>0</td>\n",
              "      <td>2</td>\n",
              "      <td>29</td>\n",
              "      <td>4</td>\n",
              "      <td>57</td>\n",
              "      <td>3</td>\n",
              "      <td>1</td>\n",
              "      <td>9</td>\n",
              "      <td>52</td>\n",
              "      <td>1</td>\n",
              "      <td>1</td>\n",
              "      <td>0</td>\n",
              "      <td>1</td>\n",
              "      <td>120</td>\n",
              "      <td>58</td>\n",
              "      <td>95</td>\n",
              "      <td>2</td>\n",
              "      <td>61</td>\n",
              "      <td>29</td>\n",
              "      <td>111</td>\n",
              "      <td>351</td>\n",
              "      <td>1</td>\n",
              "      <td>1</td>\n",
              "      <td>2</td>\n",
              "      <td>15</td>\n",
              "      <td>164</td>\n",
              "      <td>1</td>\n",
              "      <td>0</td>\n",
              "      <td>0</td>\n",
              "      <td>196</td>\n",
              "    </tr>\n",
              "    <tr>\n",
              "      <th>4</th>\n",
              "      <td>1.0</td>\n",
              "      <td>0</td>\n",
              "      <td>1.732051</td>\n",
              "      <td>6.222222</td>\n",
              "      <td>0.011806</td>\n",
              "      <td>0.273611</td>\n",
              "      <td>0.931250</td>\n",
              "      <td>5.005556</td>\n",
              "      <td>2</td>\n",
              "      <td>29</td>\n",
              "      <td>4</td>\n",
              "      <td>40</td>\n",
              "      <td>2</td>\n",
              "      <td>29</td>\n",
              "      <td>11</td>\n",
              "      <td>31</td>\n",
              "      <td>3</td>\n",
              "      <td>6</td>\n",
              "      <td>10</td>\n",
              "      <td>0</td>\n",
              "      <td>2</td>\n",
              "      <td>29</td>\n",
              "      <td>4</td>\n",
              "      <td>57</td>\n",
              "      <td>3</td>\n",
              "      <td>1</td>\n",
              "      <td>9</td>\n",
              "      <td>52</td>\n",
              "      <td>1</td>\n",
              "      <td>1</td>\n",
              "      <td>0</td>\n",
              "      <td>1</td>\n",
              "      <td>120</td>\n",
              "      <td>58</td>\n",
              "      <td>596</td>\n",
              "      <td>2</td>\n",
              "      <td>61</td>\n",
              "      <td>29</td>\n",
              "      <td>111</td>\n",
              "      <td>351</td>\n",
              "      <td>1</td>\n",
              "      <td>1</td>\n",
              "      <td>2</td>\n",
              "      <td>15</td>\n",
              "      <td>164</td>\n",
              "      <td>1</td>\n",
              "      <td>0</td>\n",
              "      <td>0</td>\n",
              "      <td>196</td>\n",
              "    </tr>\n",
              "  </tbody>\n",
              "</table>\n",
              "</div>"
            ],
            "text/plain": [
              "   reassignment_count  reopen_count  ...  notify  resolved_by\n",
              "0                 0.0             0  ...       0           51\n",
              "1                 0.0             0  ...       0          196\n",
              "2                 1.0             0  ...       0          196\n",
              "3                 1.0             0  ...       0          196\n",
              "4                 1.0             0  ...       0          196\n",
              "\n",
              "[5 rows x 49 columns]"
            ]
          },
          "metadata": {
            "tags": []
          },
          "execution_count": 7
        }
      ]
    },
    {
      "cell_type": "code",
      "metadata": {
        "id": "0CrI9BqgKm2a"
      },
      "source": [
        "X=data.drop([\"predicted_closed_days\"],axis=1)\n",
        "y=data[\"predicted_closed_days\"]"
      ],
      "execution_count": 8,
      "outputs": []
    },
    {
      "cell_type": "code",
      "metadata": {
        "id": "tPttNDIO99EU"
      },
      "source": [
        "# scaling numerical data\n",
        "from sklearn.preprocessing import StandardScaler\n",
        "\n",
        "ss = StandardScaler()\n",
        "X_scaled = ss.fit_transform(X)\n",
        "\n",
        "X_scaled = pd.DataFrame(X_scaled, columns=X.columns)"
      ],
      "execution_count": 11,
      "outputs": []
    },
    {
      "cell_type": "code",
      "metadata": {
        "id": "faspuE9eBhYf",
        "outputId": "92dbcaba-8014-4ba2-f054-9418625380ba",
        "colab": {
          "base_uri": "https://localhost:8080/",
          "height": 217
        }
      },
      "source": [
        "X_scaled.head()"
      ],
      "execution_count": 12,
      "outputs": [
        {
          "output_type": "execute_result",
          "data": {
            "text/html": [
              "<div>\n",
              "<style scoped>\n",
              "    .dataframe tbody tr th:only-of-type {\n",
              "        vertical-align: middle;\n",
              "    }\n",
              "\n",
              "    .dataframe tbody tr th {\n",
              "        vertical-align: top;\n",
              "    }\n",
              "\n",
              "    .dataframe thead th {\n",
              "        text-align: right;\n",
              "    }\n",
              "</style>\n",
              "<table border=\"1\" class=\"dataframe\">\n",
              "  <thead>\n",
              "    <tr style=\"text-align: right;\">\n",
              "      <th></th>\n",
              "      <th>reassignment_count</th>\n",
              "      <th>reopen_count</th>\n",
              "      <th>sys_mod_count</th>\n",
              "      <th>days_took_to_sys_created</th>\n",
              "      <th>days_took_to_sys_updated</th>\n",
              "      <th>days_took_to_resolve</th>\n",
              "      <th>days_took_to_close</th>\n",
              "      <th>opened_month</th>\n",
              "      <th>opened_day</th>\n",
              "      <th>opened_hour</th>\n",
              "      <th>opened_minute</th>\n",
              "      <th>sys_updated_month</th>\n",
              "      <th>sys_updated_day</th>\n",
              "      <th>sys_updated_hour</th>\n",
              "      <th>sys_updated_minute</th>\n",
              "      <th>closed_month</th>\n",
              "      <th>closed_day</th>\n",
              "      <th>closed_hour</th>\n",
              "      <th>closed_minute</th>\n",
              "      <th>sys_created_month</th>\n",
              "      <th>sys_created_day</th>\n",
              "      <th>sys_created_hour</th>\n",
              "      <th>sys_created_minute</th>\n",
              "      <th>resolved_month</th>\n",
              "      <th>resolved_day</th>\n",
              "      <th>resolved_hour</th>\n",
              "      <th>resolved_minute</th>\n",
              "      <th>number</th>\n",
              "      <th>incident_state</th>\n",
              "      <th>active</th>\n",
              "      <th>made_sla</th>\n",
              "      <th>opened_by</th>\n",
              "      <th>sys_created_by</th>\n",
              "      <th>sys_updated_by</th>\n",
              "      <th>contact_type</th>\n",
              "      <th>location</th>\n",
              "      <th>category</th>\n",
              "      <th>subcategory</th>\n",
              "      <th>u_symptom</th>\n",
              "      <th>impact</th>\n",
              "      <th>urgency</th>\n",
              "      <th>priority</th>\n",
              "      <th>assignment_group</th>\n",
              "      <th>assigned_to</th>\n",
              "      <th>knowledge</th>\n",
              "      <th>u_priority_confirmation</th>\n",
              "      <th>notify</th>\n",
              "      <th>resolved_by</th>\n",
              "    </tr>\n",
              "  </thead>\n",
              "  <tbody>\n",
              "    <tr>\n",
              "      <th>0</th>\n",
              "      <td>-0.936872</td>\n",
              "      <td>-0.112487</td>\n",
              "      <td>-1.182618</td>\n",
              "      <td>-0.089414</td>\n",
              "      <td>-0.294264</td>\n",
              "      <td>-0.360153</td>\n",
              "      <td>-0.205327</td>\n",
              "      <td>-1.862223</td>\n",
              "      <td>1.610383</td>\n",
              "      <td>-2.753916</td>\n",
              "      <td>-0.780255</td>\n",
              "      <td>-1.801391</td>\n",
              "      <td>1.583232</td>\n",
              "      <td>-2.829168</td>\n",
              "      <td>-0.390680</td>\n",
              "      <td>-1.017642</td>\n",
              "      <td>-1.287313</td>\n",
              "      <td>-0.468703</td>\n",
              "      <td>-0.983918</td>\n",
              "      <td>-1.859142</td>\n",
              "      <td>1.634701</td>\n",
              "      <td>-2.775250</td>\n",
              "      <td>-0.392518</td>\n",
              "      <td>-1.663989</td>\n",
              "      <td>1.526465</td>\n",
              "      <td>-0.414323</td>\n",
              "      <td>-0.037873</td>\n",
              "      <td>-1.529484</td>\n",
              "      <td>1.083193</td>\n",
              "      <td>0.0</td>\n",
              "      <td>0.023686</td>\n",
              "      <td>1.777451</td>\n",
              "      <td>1.251550</td>\n",
              "      <td>-1.207674</td>\n",
              "      <td>-0.064681</td>\n",
              "      <td>-0.862678</td>\n",
              "      <td>1.098438</td>\n",
              "      <td>-0.599141</td>\n",
              "      <td>1.517636</td>\n",
              "      <td>0.005372</td>\n",
              "      <td>0.028698</td>\n",
              "      <td>0.089545</td>\n",
              "      <td>0.147366</td>\n",
              "      <td>-0.547887</td>\n",
              "      <td>2.007743</td>\n",
              "      <td>-0.148558</td>\n",
              "      <td>-0.022738</td>\n",
              "      <td>-0.655482</td>\n",
              "    </tr>\n",
              "    <tr>\n",
              "      <th>1</th>\n",
              "      <td>-0.936872</td>\n",
              "      <td>-0.112487</td>\n",
              "      <td>-1.182618</td>\n",
              "      <td>-0.084235</td>\n",
              "      <td>-0.294264</td>\n",
              "      <td>-0.325599</td>\n",
              "      <td>-0.208631</td>\n",
              "      <td>-1.862223</td>\n",
              "      <td>1.610383</td>\n",
              "      <td>-1.995350</td>\n",
              "      <td>0.610654</td>\n",
              "      <td>-1.801391</td>\n",
              "      <td>1.583232</td>\n",
              "      <td>-2.082425</td>\n",
              "      <td>1.573180</td>\n",
              "      <td>-1.017642</td>\n",
              "      <td>-1.174645</td>\n",
              "      <td>-1.001012</td>\n",
              "      <td>-0.983918</td>\n",
              "      <td>-1.859142</td>\n",
              "      <td>1.634701</td>\n",
              "      <td>-2.016262</td>\n",
              "      <td>1.565202</td>\n",
              "      <td>-0.905780</td>\n",
              "      <td>-1.652715</td>\n",
              "      <td>-0.982169</td>\n",
              "      <td>1.299198</td>\n",
              "      <td>-1.529336</td>\n",
              "      <td>1.083193</td>\n",
              "      <td>0.0</td>\n",
              "      <td>0.023686</td>\n",
              "      <td>0.555439</td>\n",
              "      <td>-0.232126</td>\n",
              "      <td>0.709954</td>\n",
              "      <td>-0.064681</td>\n",
              "      <td>-0.565844</td>\n",
              "      <td>-0.039909</td>\n",
              "      <td>0.074229</td>\n",
              "      <td>0.222351</td>\n",
              "      <td>0.005372</td>\n",
              "      <td>0.028698</td>\n",
              "      <td>0.089545</td>\n",
              "      <td>0.865267</td>\n",
              "      <td>2.117173</td>\n",
              "      <td>2.007743</td>\n",
              "      <td>-0.148558</td>\n",
              "      <td>-0.022738</td>\n",
              "      <td>1.731838</td>\n",
              "    </tr>\n",
              "    <tr>\n",
              "      <th>2</th>\n",
              "      <td>0.320041</td>\n",
              "      <td>-0.112487</td>\n",
              "      <td>-0.447352</td>\n",
              "      <td>-0.084235</td>\n",
              "      <td>-0.292741</td>\n",
              "      <td>-0.326609</td>\n",
              "      <td>-0.208631</td>\n",
              "      <td>-1.862223</td>\n",
              "      <td>1.610383</td>\n",
              "      <td>-1.995350</td>\n",
              "      <td>0.610654</td>\n",
              "      <td>-1.801391</td>\n",
              "      <td>1.583232</td>\n",
              "      <td>-1.833510</td>\n",
              "      <td>0.013644</td>\n",
              "      <td>-1.017642</td>\n",
              "      <td>-1.174645</td>\n",
              "      <td>-1.001012</td>\n",
              "      <td>-0.983918</td>\n",
              "      <td>-1.859142</td>\n",
              "      <td>1.634701</td>\n",
              "      <td>-2.016262</td>\n",
              "      <td>1.565202</td>\n",
              "      <td>-0.905780</td>\n",
              "      <td>-1.652715</td>\n",
              "      <td>-0.982169</td>\n",
              "      <td>1.299198</td>\n",
              "      <td>-1.529336</td>\n",
              "      <td>-1.105096</td>\n",
              "      <td>0.0</td>\n",
              "      <td>0.023686</td>\n",
              "      <td>0.555439</td>\n",
              "      <td>-0.232126</td>\n",
              "      <td>-1.207674</td>\n",
              "      <td>-0.064681</td>\n",
              "      <td>-0.565844</td>\n",
              "      <td>-0.039909</td>\n",
              "      <td>0.074229</td>\n",
              "      <td>0.222351</td>\n",
              "      <td>0.005372</td>\n",
              "      <td>0.028698</td>\n",
              "      <td>0.089545</td>\n",
              "      <td>-1.288435</td>\n",
              "      <td>1.108772</td>\n",
              "      <td>2.007743</td>\n",
              "      <td>-0.148558</td>\n",
              "      <td>-0.022738</td>\n",
              "      <td>1.731838</td>\n",
              "    </tr>\n",
              "    <tr>\n",
              "      <th>3</th>\n",
              "      <td>0.320041</td>\n",
              "      <td>-0.112487</td>\n",
              "      <td>-0.142795</td>\n",
              "      <td>-0.084235</td>\n",
              "      <td>-0.292603</td>\n",
              "      <td>-0.326701</td>\n",
              "      <td>-0.208631</td>\n",
              "      <td>-1.862223</td>\n",
              "      <td>1.610383</td>\n",
              "      <td>-1.995350</td>\n",
              "      <td>0.610654</td>\n",
              "      <td>-1.801391</td>\n",
              "      <td>1.583232</td>\n",
              "      <td>-1.833510</td>\n",
              "      <td>0.186926</td>\n",
              "      <td>-1.017642</td>\n",
              "      <td>-1.174645</td>\n",
              "      <td>-1.001012</td>\n",
              "      <td>-0.983918</td>\n",
              "      <td>-1.859142</td>\n",
              "      <td>1.634701</td>\n",
              "      <td>-2.016262</td>\n",
              "      <td>1.565202</td>\n",
              "      <td>-0.905780</td>\n",
              "      <td>-1.652715</td>\n",
              "      <td>-0.982169</td>\n",
              "      <td>1.299198</td>\n",
              "      <td>-1.529336</td>\n",
              "      <td>-1.105096</td>\n",
              "      <td>0.0</td>\n",
              "      <td>0.023686</td>\n",
              "      <td>0.555439</td>\n",
              "      <td>-0.232126</td>\n",
              "      <td>-1.207674</td>\n",
              "      <td>-0.064681</td>\n",
              "      <td>-0.565844</td>\n",
              "      <td>-0.039909</td>\n",
              "      <td>0.074229</td>\n",
              "      <td>0.222351</td>\n",
              "      <td>0.005372</td>\n",
              "      <td>0.028698</td>\n",
              "      <td>0.089545</td>\n",
              "      <td>-1.288435</td>\n",
              "      <td>1.108772</td>\n",
              "      <td>2.007743</td>\n",
              "      <td>-0.148558</td>\n",
              "      <td>-0.022738</td>\n",
              "      <td>1.731838</td>\n",
              "    </tr>\n",
              "    <tr>\n",
              "      <th>4</th>\n",
              "      <td>0.320041</td>\n",
              "      <td>-0.112487</td>\n",
              "      <td>0.090900</td>\n",
              "      <td>-0.084235</td>\n",
              "      <td>-0.276088</td>\n",
              "      <td>-0.337658</td>\n",
              "      <td>-0.208631</td>\n",
              "      <td>-1.862223</td>\n",
              "      <td>1.610383</td>\n",
              "      <td>-1.995350</td>\n",
              "      <td>0.610654</td>\n",
              "      <td>-1.801391</td>\n",
              "      <td>1.583232</td>\n",
              "      <td>-0.340023</td>\n",
              "      <td>0.071404</td>\n",
              "      <td>-1.017642</td>\n",
              "      <td>-1.174645</td>\n",
              "      <td>-1.001012</td>\n",
              "      <td>-0.983918</td>\n",
              "      <td>-1.859142</td>\n",
              "      <td>1.634701</td>\n",
              "      <td>-2.016262</td>\n",
              "      <td>1.565202</td>\n",
              "      <td>-0.905780</td>\n",
              "      <td>-1.652715</td>\n",
              "      <td>-0.982169</td>\n",
              "      <td>1.299198</td>\n",
              "      <td>-1.529336</td>\n",
              "      <td>-1.105096</td>\n",
              "      <td>0.0</td>\n",
              "      <td>0.023686</td>\n",
              "      <td>0.555439</td>\n",
              "      <td>-0.232126</td>\n",
              "      <td>0.913146</td>\n",
              "      <td>-0.064681</td>\n",
              "      <td>-0.565844</td>\n",
              "      <td>-0.039909</td>\n",
              "      <td>0.074229</td>\n",
              "      <td>0.222351</td>\n",
              "      <td>0.005372</td>\n",
              "      <td>0.028698</td>\n",
              "      <td>0.089545</td>\n",
              "      <td>-1.288435</td>\n",
              "      <td>1.108772</td>\n",
              "      <td>2.007743</td>\n",
              "      <td>-0.148558</td>\n",
              "      <td>-0.022738</td>\n",
              "      <td>1.731838</td>\n",
              "    </tr>\n",
              "  </tbody>\n",
              "</table>\n",
              "</div>"
            ],
            "text/plain": [
              "   reassignment_count  reopen_count  ...    notify  resolved_by\n",
              "0           -0.936872     -0.112487  ... -0.022738    -0.655482\n",
              "1           -0.936872     -0.112487  ... -0.022738     1.731838\n",
              "2            0.320041     -0.112487  ... -0.022738     1.731838\n",
              "3            0.320041     -0.112487  ... -0.022738     1.731838\n",
              "4            0.320041     -0.112487  ... -0.022738     1.731838\n",
              "\n",
              "[5 rows x 48 columns]"
            ]
          },
          "metadata": {
            "tags": []
          },
          "execution_count": 12
        }
      ]
    },
    {
      "cell_type": "code",
      "metadata": {
        "id": "nyFlhfP5CYoJ",
        "outputId": "d9b37a5f-f3e0-49e8-bf15-b1470afed257",
        "colab": {
          "base_uri": "https://localhost:8080/"
        }
      },
      "source": [
        "X_scaled.columns"
      ],
      "execution_count": 13,
      "outputs": [
        {
          "output_type": "execute_result",
          "data": {
            "text/plain": [
              "Index(['reassignment_count', 'reopen_count', 'sys_mod_count',\n",
              "       'days_took_to_sys_created', 'days_took_to_sys_updated',\n",
              "       'days_took_to_resolve', 'days_took_to_close', 'opened_month',\n",
              "       'opened_day', 'opened_hour', 'opened_minute', 'sys_updated_month',\n",
              "       'sys_updated_day', 'sys_updated_hour', 'sys_updated_minute',\n",
              "       'closed_month', 'closed_day', 'closed_hour', 'closed_minute',\n",
              "       'sys_created_month', 'sys_created_day', 'sys_created_hour',\n",
              "       'sys_created_minute', 'resolved_month', 'resolved_day', 'resolved_hour',\n",
              "       'resolved_minute', 'number', 'incident_state', 'active', 'made_sla',\n",
              "       'opened_by', 'sys_created_by', 'sys_updated_by', 'contact_type',\n",
              "       'location', 'category', 'subcategory', 'u_symptom', 'impact', 'urgency',\n",
              "       'priority', 'assignment_group', 'assigned_to', 'knowledge',\n",
              "       'u_priority_confirmation', 'notify', 'resolved_by'],\n",
              "      dtype='object')"
            ]
          },
          "metadata": {
            "tags": []
          },
          "execution_count": 13
        }
      ]
    },
    {
      "cell_type": "code",
      "metadata": {
        "id": "Ln9ODZ1hGmYX",
        "outputId": "881f9868-586e-4ad1-d976-fc2389183816",
        "colab": {
          "base_uri": "https://localhost:8080/"
        }
      },
      "source": [
        "X_scaled.shape"
      ],
      "execution_count": 14,
      "outputs": [
        {
          "output_type": "execute_result",
          "data": {
            "text/plain": [
              "(90956, 48)"
            ]
          },
          "metadata": {
            "tags": []
          },
          "execution_count": 14
        }
      ]
    },
    {
      "cell_type": "code",
      "metadata": {
        "id": "kqAMETtIBl6R"
      },
      "source": [
        "X_final=X_scaled.drop(['days_took_to_sys_created','days_took_to_sys_updated','days_took_to_resolve','days_took_to_close','closed_month', 'closed_day',\n",
        "       'closed_hour', 'closed_minute', 'resolved_month',\n",
        "       'resolved_day', 'resolved_hour', 'resolved_minute','sys_updated_month', 'sys_updated_day',\n",
        "       'sys_updated_hour', 'sys_updated_minute', 'made_sla','notify','resolved_by','sys_updated_by','active','number','impact','urgency','contact_type'],axis=1)\n"
      ],
      "execution_count": 15,
      "outputs": []
    },
    {
      "cell_type": "code",
      "metadata": {
        "id": "7GvBvibTKjBD",
        "outputId": "c9c6d14f-0df0-4dcf-8157-6a57722a75ea",
        "colab": {
          "base_uri": "https://localhost:8080/"
        }
      },
      "source": [
        "X_final.columns"
      ],
      "execution_count": 31,
      "outputs": [
        {
          "output_type": "execute_result",
          "data": {
            "text/plain": [
              "Index(['reassignment_count', 'reopen_count', 'sys_mod_count', 'opened_month',\n",
              "       'opened_day', 'opened_hour', 'opened_minute', 'sys_created_month',\n",
              "       'sys_created_day', 'sys_created_hour', 'sys_created_minute',\n",
              "       'incident_state', 'opened_by', 'sys_created_by', 'location', 'category',\n",
              "       'subcategory', 'u_symptom', 'priority', 'assignment_group',\n",
              "       'assigned_to', 'knowledge', 'u_priority_confirmation'],\n",
              "      dtype='object')"
            ]
          },
          "metadata": {
            "tags": []
          },
          "execution_count": 31
        }
      ]
    },
    {
      "cell_type": "code",
      "metadata": {
        "id": "rLTZJA8nM5t-",
        "outputId": "f0a12f56-01b0-4667-fc91-861220e8f387",
        "colab": {
          "base_uri": "https://localhost:8080/",
          "height": 778
        }
      },
      "source": [
        "import warnings\n",
        "warnings.filterwarnings(\"ignore\")\n",
        "import statsmodels.api as sm\n",
        "\n",
        "X_constant=sm.add_constant(X_final)\n",
        "\n",
        "ols = sm.OLS(y, X_constant)\n",
        "ols_mod = ols.fit()\n",
        "ols_mod.summary()"
      ],
      "execution_count": 24,
      "outputs": [
        {
          "output_type": "execute_result",
          "data": {
            "text/html": [
              "<table class=\"simpletable\">\n",
              "<caption>OLS Regression Results</caption>\n",
              "<tr>\n",
              "  <th>Dep. Variable:</th>    <td>predicted_closed_days</td> <th>  R-squared:         </th>  <td>   0.222</td>  \n",
              "</tr>\n",
              "<tr>\n",
              "  <th>Model:</th>                     <td>OLS</td>          <th>  Adj. R-squared:    </th>  <td>   0.222</td>  \n",
              "</tr>\n",
              "<tr>\n",
              "  <th>Method:</th>               <td>Least Squares</td>     <th>  F-statistic:       </th>  <td>   1127.</td>  \n",
              "</tr>\n",
              "<tr>\n",
              "  <th>Date:</th>               <td>Tue, 10 Nov 2020</td>    <th>  Prob (F-statistic):</th>   <td>  0.00</td>   \n",
              "</tr>\n",
              "<tr>\n",
              "  <th>Time:</th>                   <td>21:09:35</td>        <th>  Log-Likelihood:    </th> <td>-4.2478e+05</td>\n",
              "</tr>\n",
              "<tr>\n",
              "  <th>No. Observations:</th>        <td> 90956</td>         <th>  AIC:               </th>  <td>8.496e+05</td> \n",
              "</tr>\n",
              "<tr>\n",
              "  <th>Df Residuals:</th>            <td> 90932</td>         <th>  BIC:               </th>  <td>8.498e+05</td> \n",
              "</tr>\n",
              "<tr>\n",
              "  <th>Df Model:</th>                <td>    23</td>         <th>                     </th>      <td> </td>     \n",
              "</tr>\n",
              "<tr>\n",
              "  <th>Covariance Type:</th>        <td>nonrobust</td>       <th>                     </th>      <td> </td>     \n",
              "</tr>\n",
              "</table>\n",
              "<table class=\"simpletable\">\n",
              "<tr>\n",
              "             <td></td>                <th>coef</th>     <th>std err</th>      <th>t</th>      <th>P>|t|</th>  <th>[0.025</th>    <th>0.975]</th>  \n",
              "</tr>\n",
              "<tr>\n",
              "  <th>const</th>                   <td>   19.1612</td> <td>    0.086</td> <td>  223.763</td> <td> 0.000</td> <td>   18.993</td> <td>   19.329</td>\n",
              "</tr>\n",
              "<tr>\n",
              "  <th>reassignment_count</th>      <td>   -8.6255</td> <td>    0.123</td> <td>  -70.091</td> <td> 0.000</td> <td>   -8.867</td> <td>   -8.384</td>\n",
              "</tr>\n",
              "<tr>\n",
              "  <th>reopen_count</th>            <td>   -1.8429</td> <td>    0.113</td> <td>  -16.286</td> <td> 0.000</td> <td>   -2.065</td> <td>   -1.621</td>\n",
              "</tr>\n",
              "<tr>\n",
              "  <th>sys_mod_count</th>           <td>   18.5576</td> <td>    0.128</td> <td>  144.586</td> <td> 0.000</td> <td>   18.306</td> <td>   18.809</td>\n",
              "</tr>\n",
              "<tr>\n",
              "  <th>opened_month</th>            <td>  -11.6840</td> <td>    1.984</td> <td>   -5.890</td> <td> 0.000</td> <td>  -15.572</td> <td>   -7.796</td>\n",
              "</tr>\n",
              "<tr>\n",
              "  <th>opened_day</th>              <td>   -4.1560</td> <td>    0.746</td> <td>   -5.572</td> <td> 0.000</td> <td>   -5.618</td> <td>   -2.694</td>\n",
              "</tr>\n",
              "<tr>\n",
              "  <th>opened_hour</th>             <td>    0.1767</td> <td>    0.382</td> <td>    0.463</td> <td> 0.644</td> <td>   -0.572</td> <td>    0.925</td>\n",
              "</tr>\n",
              "<tr>\n",
              "  <th>opened_minute</th>           <td>   -0.5454</td> <td>    0.107</td> <td>   -5.115</td> <td> 0.000</td> <td>   -0.754</td> <td>   -0.336</td>\n",
              "</tr>\n",
              "<tr>\n",
              "  <th>sys_created_month</th>       <td>   11.5465</td> <td>    1.991</td> <td>    5.799</td> <td> 0.000</td> <td>    7.644</td> <td>   15.449</td>\n",
              "</tr>\n",
              "<tr>\n",
              "  <th>sys_created_day</th>         <td>    3.7043</td> <td>    0.743</td> <td>    4.984</td> <td> 0.000</td> <td>    2.247</td> <td>    5.161</td>\n",
              "</tr>\n",
              "<tr>\n",
              "  <th>sys_created_hour</th>        <td>    0.3381</td> <td>    0.382</td> <td>    0.886</td> <td> 0.376</td> <td>   -0.410</td> <td>    1.086</td>\n",
              "</tr>\n",
              "<tr>\n",
              "  <th>sys_created_minute</th>      <td>    0.5226</td> <td>    0.107</td> <td>    4.880</td> <td> 0.000</td> <td>    0.313</td> <td>    0.732</td>\n",
              "</tr>\n",
              "<tr>\n",
              "  <th>incident_state</th>          <td>    3.0127</td> <td>    0.090</td> <td>   33.409</td> <td> 0.000</td> <td>    2.836</td> <td>    3.189</td>\n",
              "</tr>\n",
              "<tr>\n",
              "  <th>opened_by</th>               <td>    0.0404</td> <td>    0.090</td> <td>    0.452</td> <td> 0.651</td> <td>   -0.135</td> <td>    0.216</td>\n",
              "</tr>\n",
              "<tr>\n",
              "  <th>sys_created_by</th>          <td>   -0.3877</td> <td>    0.090</td> <td>   -4.318</td> <td> 0.000</td> <td>   -0.564</td> <td>   -0.212</td>\n",
              "</tr>\n",
              "<tr>\n",
              "  <th>location</th>                <td>    0.1299</td> <td>    0.086</td> <td>    1.505</td> <td> 0.132</td> <td>   -0.039</td> <td>    0.299</td>\n",
              "</tr>\n",
              "<tr>\n",
              "  <th>category</th>                <td>   -0.3670</td> <td>    0.087</td> <td>   -4.234</td> <td> 0.000</td> <td>   -0.537</td> <td>   -0.197</td>\n",
              "</tr>\n",
              "<tr>\n",
              "  <th>subcategory</th>             <td>   -0.6131</td> <td>    0.087</td> <td>   -7.049</td> <td> 0.000</td> <td>   -0.784</td> <td>   -0.443</td>\n",
              "</tr>\n",
              "<tr>\n",
              "  <th>u_symptom</th>               <td>    0.1969</td> <td>    0.086</td> <td>    2.283</td> <td> 0.022</td> <td>    0.028</td> <td>    0.366</td>\n",
              "</tr>\n",
              "<tr>\n",
              "  <th>priority</th>                <td>    1.7803</td> <td>    0.089</td> <td>   20.093</td> <td> 0.000</td> <td>    1.607</td> <td>    1.954</td>\n",
              "</tr>\n",
              "<tr>\n",
              "  <th>assignment_group</th>        <td>    0.8113</td> <td>    0.089</td> <td>    9.128</td> <td> 0.000</td> <td>    0.637</td> <td>    0.986</td>\n",
              "</tr>\n",
              "<tr>\n",
              "  <th>assigned_to</th>             <td>    1.7923</td> <td>    0.089</td> <td>   20.237</td> <td> 0.000</td> <td>    1.619</td> <td>    1.966</td>\n",
              "</tr>\n",
              "<tr>\n",
              "  <th>knowledge</th>               <td>    2.1009</td> <td>    0.112</td> <td>   18.716</td> <td> 0.000</td> <td>    1.881</td> <td>    2.321</td>\n",
              "</tr>\n",
              "<tr>\n",
              "  <th>u_priority_confirmation</th> <td>    0.3066</td> <td>    0.114</td> <td>    2.678</td> <td> 0.007</td> <td>    0.082</td> <td>    0.531</td>\n",
              "</tr>\n",
              "</table>\n",
              "<table class=\"simpletable\">\n",
              "<tr>\n",
              "  <th>Omnibus:</th>       <td>88040.544</td> <th>  Durbin-Watson:     </th>  <td>   0.446</td>  \n",
              "</tr>\n",
              "<tr>\n",
              "  <th>Prob(Omnibus):</th>  <td> 0.000</td>   <th>  Jarque-Bera (JB):  </th> <td>4377887.707</td>\n",
              "</tr>\n",
              "<tr>\n",
              "  <th>Skew:</th>           <td> 4.784</td>   <th>  Prob(JB):          </th>  <td>    0.00</td>  \n",
              "</tr>\n",
              "<tr>\n",
              "  <th>Kurtosis:</th>       <td>35.613</td>   <th>  Cond. No.          </th>  <td>    56.7</td>  \n",
              "</tr>\n",
              "</table><br/><br/>Warnings:<br/>[1] Standard Errors assume that the covariance matrix of the errors is correctly specified."
            ],
            "text/plain": [
              "<class 'statsmodels.iolib.summary.Summary'>\n",
              "\"\"\"\n",
              "                              OLS Regression Results                             \n",
              "=================================================================================\n",
              "Dep. Variable:     predicted_closed_days   R-squared:                       0.222\n",
              "Model:                               OLS   Adj. R-squared:                  0.222\n",
              "Method:                    Least Squares   F-statistic:                     1127.\n",
              "Date:                   Tue, 10 Nov 2020   Prob (F-statistic):               0.00\n",
              "Time:                           21:09:35   Log-Likelihood:            -4.2478e+05\n",
              "No. Observations:                  90956   AIC:                         8.496e+05\n",
              "Df Residuals:                      90932   BIC:                         8.498e+05\n",
              "Df Model:                             23                                         \n",
              "Covariance Type:               nonrobust                                         \n",
              "===========================================================================================\n",
              "                              coef    std err          t      P>|t|      [0.025      0.975]\n",
              "-------------------------------------------------------------------------------------------\n",
              "const                      19.1612      0.086    223.763      0.000      18.993      19.329\n",
              "reassignment_count         -8.6255      0.123    -70.091      0.000      -8.867      -8.384\n",
              "reopen_count               -1.8429      0.113    -16.286      0.000      -2.065      -1.621\n",
              "sys_mod_count              18.5576      0.128    144.586      0.000      18.306      18.809\n",
              "opened_month              -11.6840      1.984     -5.890      0.000     -15.572      -7.796\n",
              "opened_day                 -4.1560      0.746     -5.572      0.000      -5.618      -2.694\n",
              "opened_hour                 0.1767      0.382      0.463      0.644      -0.572       0.925\n",
              "opened_minute              -0.5454      0.107     -5.115      0.000      -0.754      -0.336\n",
              "sys_created_month          11.5465      1.991      5.799      0.000       7.644      15.449\n",
              "sys_created_day             3.7043      0.743      4.984      0.000       2.247       5.161\n",
              "sys_created_hour            0.3381      0.382      0.886      0.376      -0.410       1.086\n",
              "sys_created_minute          0.5226      0.107      4.880      0.000       0.313       0.732\n",
              "incident_state              3.0127      0.090     33.409      0.000       2.836       3.189\n",
              "opened_by                   0.0404      0.090      0.452      0.651      -0.135       0.216\n",
              "sys_created_by             -0.3877      0.090     -4.318      0.000      -0.564      -0.212\n",
              "location                    0.1299      0.086      1.505      0.132      -0.039       0.299\n",
              "category                   -0.3670      0.087     -4.234      0.000      -0.537      -0.197\n",
              "subcategory                -0.6131      0.087     -7.049      0.000      -0.784      -0.443\n",
              "u_symptom                   0.1969      0.086      2.283      0.022       0.028       0.366\n",
              "priority                    1.7803      0.089     20.093      0.000       1.607       1.954\n",
              "assignment_group            0.8113      0.089      9.128      0.000       0.637       0.986\n",
              "assigned_to                 1.7923      0.089     20.237      0.000       1.619       1.966\n",
              "knowledge                   2.1009      0.112     18.716      0.000       1.881       2.321\n",
              "u_priority_confirmation     0.3066      0.114      2.678      0.007       0.082       0.531\n",
              "==============================================================================\n",
              "Omnibus:                    88040.544   Durbin-Watson:                   0.446\n",
              "Prob(Omnibus):                  0.000   Jarque-Bera (JB):          4377887.707\n",
              "Skew:                           4.784   Prob(JB):                         0.00\n",
              "Kurtosis:                      35.613   Cond. No.                         56.7\n",
              "==============================================================================\n",
              "\n",
              "Warnings:\n",
              "[1] Standard Errors assume that the covariance matrix of the errors is correctly specified.\n",
              "\"\"\""
            ]
          },
          "metadata": {
            "tags": []
          },
          "execution_count": 24
        }
      ]
    },
    {
      "cell_type": "markdown",
      "metadata": {
        "id": "pZxU33kUBwIL"
      },
      "source": [
        "## Assumption 1: Multicolinearity"
      ]
    },
    {
      "cell_type": "code",
      "metadata": {
        "id": "9bEjLB15M-jB",
        "outputId": "a078eecf-07c9-4c76-d5c7-42808bf74a1d",
        "colab": {
          "base_uri": "https://localhost:8080/",
          "height": 127
        }
      },
      "source": [
        "from statsmodels.stats.outliers_influence import variance_inflation_factor\n",
        "vif = pd.DataFrame()\n",
        "vif['columns']=X_final.columns.tolist()\n",
        "vif['vif']=[variance_inflation_factor(X_final.values,i) for i in range(X_final.shape[1])]\n",
        "vif.sort_values(by='vif',ascending=False).T\n",
        "# pd.DataFrame({\"vif\":vif[1:]},index=X.columns).sort_values(ascending=False)\n"
      ],
      "execution_count": 27,
      "outputs": [
        {
          "output_type": "execute_result",
          "data": {
            "text/html": [
              "<div>\n",
              "<style scoped>\n",
              "    .dataframe tbody tr th:only-of-type {\n",
              "        vertical-align: middle;\n",
              "    }\n",
              "\n",
              "    .dataframe tbody tr th {\n",
              "        vertical-align: top;\n",
              "    }\n",
              "\n",
              "    .dataframe thead th {\n",
              "        text-align: right;\n",
              "    }\n",
              "</style>\n",
              "<table border=\"1\" class=\"dataframe\">\n",
              "  <thead>\n",
              "    <tr style=\"text-align: right;\">\n",
              "      <th></th>\n",
              "      <th>7</th>\n",
              "      <th>3</th>\n",
              "      <th>4</th>\n",
              "      <th>8</th>\n",
              "      <th>5</th>\n",
              "      <th>9</th>\n",
              "      <th>2</th>\n",
              "      <th>0</th>\n",
              "      <th>22</th>\n",
              "      <th>1</th>\n",
              "      <th>21</th>\n",
              "      <th>10</th>\n",
              "      <th>6</th>\n",
              "      <th>11</th>\n",
              "      <th>13</th>\n",
              "      <th>12</th>\n",
              "      <th>19</th>\n",
              "      <th>18</th>\n",
              "      <th>20</th>\n",
              "      <th>16</th>\n",
              "      <th>15</th>\n",
              "      <th>14</th>\n",
              "      <th>17</th>\n",
              "    </tr>\n",
              "  </thead>\n",
              "  <tbody>\n",
              "    <tr>\n",
              "      <th>columns</th>\n",
              "      <td>sys_created_month</td>\n",
              "      <td>opened_month</td>\n",
              "      <td>opened_day</td>\n",
              "      <td>sys_created_day</td>\n",
              "      <td>opened_hour</td>\n",
              "      <td>sys_created_hour</td>\n",
              "      <td>sys_mod_count</td>\n",
              "      <td>reassignment_count</td>\n",
              "      <td>u_priority_confirmation</td>\n",
              "      <td>reopen_count</td>\n",
              "      <td>knowledge</td>\n",
              "      <td>sys_created_minute</td>\n",
              "      <td>opened_minute</td>\n",
              "      <td>incident_state</td>\n",
              "      <td>sys_created_by</td>\n",
              "      <td>opened_by</td>\n",
              "      <td>assignment_group</td>\n",
              "      <td>priority</td>\n",
              "      <td>assigned_to</td>\n",
              "      <td>subcategory</td>\n",
              "      <td>category</td>\n",
              "      <td>location</td>\n",
              "      <td>u_symptom</td>\n",
              "    </tr>\n",
              "    <tr>\n",
              "      <th>vif</th>\n",
              "      <td>540.692</td>\n",
              "      <td>536.625</td>\n",
              "      <td>75.8714</td>\n",
              "      <td>75.3432</td>\n",
              "      <td>19.88</td>\n",
              "      <td>19.862</td>\n",
              "      <td>2.24658</td>\n",
              "      <td>2.06528</td>\n",
              "      <td>1.78717</td>\n",
              "      <td>1.74611</td>\n",
              "      <td>1.71841</td>\n",
              "      <td>1.56353</td>\n",
              "      <td>1.55055</td>\n",
              "      <td>1.10899</td>\n",
              "      <td>1.09924</td>\n",
              "      <td>1.09261</td>\n",
              "      <td>1.0775</td>\n",
              "      <td>1.07057</td>\n",
              "      <td>1.06969</td>\n",
              "      <td>1.0314</td>\n",
              "      <td>1.02457</td>\n",
              "      <td>1.0155</td>\n",
              "      <td>1.01407</td>\n",
              "    </tr>\n",
              "  </tbody>\n",
              "</table>\n",
              "</div>"
            ],
            "text/plain": [
              "                        7             3   ...        14         17\n",
              "columns  sys_created_month  opened_month  ...  location  u_symptom\n",
              "vif                540.692       536.625  ...    1.0155    1.01407\n",
              "\n",
              "[2 rows x 23 columns]"
            ]
          },
          "metadata": {
            "tags": []
          },
          "execution_count": 27
        }
      ]
    },
    {
      "cell_type": "code",
      "metadata": {
        "id": "4HCDRvT2_68Z"
      },
      "source": [
        "# dropping features that cause high vif one by one\n",
        "inp1 = X_final.drop(['sys_created_month', 'sys_created_hour','sys_created_day'], axis=1)"
      ],
      "execution_count": 37,
      "outputs": []
    },
    {
      "cell_type": "code",
      "metadata": {
        "id": "KPrxYx0yAFma",
        "outputId": "fca8bb2b-bda2-48fa-f546-54ca9e586f60",
        "colab": {
          "base_uri": "https://localhost:8080/",
          "height": 127
        }
      },
      "source": [
        "from statsmodels.stats.outliers_influence import variance_inflation_factor\n",
        "vif = pd.DataFrame()\n",
        "vif['columns']=inp1.columns.tolist()\n",
        "vif['vif']=[variance_inflation_factor(inp1.values,i) for i in range(inp1.shape[1])]\n",
        "\n",
        "vif.sort_values(by='vif',ascending=False).T"
      ],
      "execution_count": 38,
      "outputs": [
        {
          "output_type": "execute_result",
          "data": {
            "text/html": [
              "<div>\n",
              "<style scoped>\n",
              "    .dataframe tbody tr th:only-of-type {\n",
              "        vertical-align: middle;\n",
              "    }\n",
              "\n",
              "    .dataframe tbody tr th {\n",
              "        vertical-align: top;\n",
              "    }\n",
              "\n",
              "    .dataframe thead th {\n",
              "        text-align: right;\n",
              "    }\n",
              "</style>\n",
              "<table border=\"1\" class=\"dataframe\">\n",
              "  <thead>\n",
              "    <tr style=\"text-align: right;\">\n",
              "      <th></th>\n",
              "      <th>2</th>\n",
              "      <th>0</th>\n",
              "      <th>19</th>\n",
              "      <th>1</th>\n",
              "      <th>18</th>\n",
              "      <th>6</th>\n",
              "      <th>7</th>\n",
              "      <th>3</th>\n",
              "      <th>4</th>\n",
              "      <th>8</th>\n",
              "      <th>10</th>\n",
              "      <th>9</th>\n",
              "      <th>16</th>\n",
              "      <th>15</th>\n",
              "      <th>17</th>\n",
              "      <th>13</th>\n",
              "      <th>12</th>\n",
              "      <th>11</th>\n",
              "      <th>14</th>\n",
              "      <th>5</th>\n",
              "    </tr>\n",
              "  </thead>\n",
              "  <tbody>\n",
              "    <tr>\n",
              "      <th>columns</th>\n",
              "      <td>sys_mod_count</td>\n",
              "      <td>reassignment_count</td>\n",
              "      <td>u_priority_confirmation</td>\n",
              "      <td>reopen_count</td>\n",
              "      <td>knowledge</td>\n",
              "      <td>opened_minute</td>\n",
              "      <td>sys_created_minute</td>\n",
              "      <td>opened_month</td>\n",
              "      <td>opened_day</td>\n",
              "      <td>incident_state</td>\n",
              "      <td>sys_created_by</td>\n",
              "      <td>opened_by</td>\n",
              "      <td>assignment_group</td>\n",
              "      <td>priority</td>\n",
              "      <td>assigned_to</td>\n",
              "      <td>subcategory</td>\n",
              "      <td>category</td>\n",
              "      <td>location</td>\n",
              "      <td>u_symptom</td>\n",
              "      <td>opened_hour</td>\n",
              "    </tr>\n",
              "    <tr>\n",
              "      <th>vif</th>\n",
              "      <td>2.24344</td>\n",
              "      <td>2.06261</td>\n",
              "      <td>1.78611</td>\n",
              "      <td>1.74557</td>\n",
              "      <td>1.71107</td>\n",
              "      <td>1.47642</td>\n",
              "      <td>1.47262</td>\n",
              "      <td>1.35158</td>\n",
              "      <td>1.31428</td>\n",
              "      <td>1.10297</td>\n",
              "      <td>1.09849</td>\n",
              "      <td>1.09239</td>\n",
              "      <td>1.0761</td>\n",
              "      <td>1.07042</td>\n",
              "      <td>1.06785</td>\n",
              "      <td>1.03096</td>\n",
              "      <td>1.02319</td>\n",
              "      <td>1.01521</td>\n",
              "      <td>1.01393</td>\n",
              "      <td>1.01378</td>\n",
              "    </tr>\n",
              "  </tbody>\n",
              "</table>\n",
              "</div>"
            ],
            "text/plain": [
              "                    2                   0   ...         14           5 \n",
              "columns  sys_mod_count  reassignment_count  ...  u_symptom  opened_hour\n",
              "vif            2.24344             2.06261  ...    1.01393      1.01378\n",
              "\n",
              "[2 rows x 20 columns]"
            ]
          },
          "metadata": {
            "tags": []
          },
          "execution_count": 38
        }
      ]
    },
    {
      "cell_type": "markdown",
      "metadata": {
        "id": "ONk9bks2BQ10"
      },
      "source": [
        "**Inference:** We can see now that highest vif has come down to 2.24 which is not bad lets recheck our ols model with the new features"
      ]
    },
    {
      "cell_type": "code",
      "metadata": {
        "id": "MhaRcxwOBb1R",
        "outputId": "4442fc49-2a5b-4f95-90de-567e8c271745",
        "colab": {
          "base_uri": "https://localhost:8080/",
          "height": 725
        }
      },
      "source": [
        "import warnings\n",
        "warnings.filterwarnings(\"ignore\")\n",
        "import statsmodels.api as sm\n",
        "\n",
        "X_constant=sm.add_constant(inp1)\n",
        "\n",
        "ols = sm.OLS(y, X_constant)\n",
        "ols_mod = ols.fit()\n",
        "ols_mod.summary()"
      ],
      "execution_count": 39,
      "outputs": [
        {
          "output_type": "execute_result",
          "data": {
            "text/html": [
              "<table class=\"simpletable\">\n",
              "<caption>OLS Regression Results</caption>\n",
              "<tr>\n",
              "  <th>Dep. Variable:</th>    <td>predicted_closed_days</td> <th>  R-squared:         </th>  <td>   0.222</td>  \n",
              "</tr>\n",
              "<tr>\n",
              "  <th>Model:</th>                     <td>OLS</td>          <th>  Adj. R-squared:    </th>  <td>   0.221</td>  \n",
              "</tr>\n",
              "<tr>\n",
              "  <th>Method:</th>               <td>Least Squares</td>     <th>  F-statistic:       </th>  <td>   1294.</td>  \n",
              "</tr>\n",
              "<tr>\n",
              "  <th>Date:</th>               <td>Tue, 10 Nov 2020</td>    <th>  Prob (F-statistic):</th>   <td>  0.00</td>   \n",
              "</tr>\n",
              "<tr>\n",
              "  <th>Time:</th>                   <td>21:18:22</td>        <th>  Log-Likelihood:    </th> <td>-4.2480e+05</td>\n",
              "</tr>\n",
              "<tr>\n",
              "  <th>No. Observations:</th>        <td> 90956</td>         <th>  AIC:               </th>  <td>8.496e+05</td> \n",
              "</tr>\n",
              "<tr>\n",
              "  <th>Df Residuals:</th>            <td> 90935</td>         <th>  BIC:               </th>  <td>8.498e+05</td> \n",
              "</tr>\n",
              "<tr>\n",
              "  <th>Df Model:</th>                <td>    20</td>         <th>                     </th>      <td> </td>     \n",
              "</tr>\n",
              "<tr>\n",
              "  <th>Covariance Type:</th>        <td>nonrobust</td>       <th>                     </th>      <td> </td>     \n",
              "</tr>\n",
              "</table>\n",
              "<table class=\"simpletable\">\n",
              "<tr>\n",
              "             <td></td>                <th>coef</th>     <th>std err</th>      <th>t</th>      <th>P>|t|</th>  <th>[0.025</th>    <th>0.975]</th>  \n",
              "</tr>\n",
              "<tr>\n",
              "  <th>const</th>                   <td>   19.1612</td> <td>    0.086</td> <td>  223.725</td> <td> 0.000</td> <td>   18.993</td> <td>   19.329</td>\n",
              "</tr>\n",
              "<tr>\n",
              "  <th>reassignment_count</th>      <td>   -8.6085</td> <td>    0.123</td> <td>  -69.986</td> <td> 0.000</td> <td>   -8.850</td> <td>   -8.367</td>\n",
              "</tr>\n",
              "<tr>\n",
              "  <th>reopen_count</th>            <td>   -1.8479</td> <td>    0.113</td> <td>  -16.331</td> <td> 0.000</td> <td>   -2.070</td> <td>   -1.626</td>\n",
              "</tr>\n",
              "<tr>\n",
              "  <th>sys_mod_count</th>           <td>   18.5843</td> <td>    0.128</td> <td>  144.871</td> <td> 0.000</td> <td>   18.333</td> <td>   18.836</td>\n",
              "</tr>\n",
              "<tr>\n",
              "  <th>opened_month</th>            <td>   -0.1957</td> <td>    0.100</td> <td>   -1.966</td> <td> 0.049</td> <td>   -0.391</td> <td>   -0.001</td>\n",
              "</tr>\n",
              "<tr>\n",
              "  <th>opened_day</th>              <td>   -0.4354</td> <td>    0.098</td> <td>   -4.434</td> <td> 0.000</td> <td>   -0.628</td> <td>   -0.243</td>\n",
              "</tr>\n",
              "<tr>\n",
              "  <th>opened_hour</th>             <td>    0.5092</td> <td>    0.086</td> <td>    5.905</td> <td> 0.000</td> <td>    0.340</td> <td>    0.678</td>\n",
              "</tr>\n",
              "<tr>\n",
              "  <th>opened_minute</th>           <td>   -0.5180</td> <td>    0.104</td> <td>   -4.978</td> <td> 0.000</td> <td>   -0.722</td> <td>   -0.314</td>\n",
              "</tr>\n",
              "<tr>\n",
              "  <th>sys_created_minute</th>      <td>    0.4970</td> <td>    0.104</td> <td>    4.782</td> <td> 0.000</td> <td>    0.293</td> <td>    0.701</td>\n",
              "</tr>\n",
              "<tr>\n",
              "  <th>incident_state</th>          <td>    3.0472</td> <td>    0.090</td> <td>   33.877</td> <td> 0.000</td> <td>    2.871</td> <td>    3.223</td>\n",
              "</tr>\n",
              "<tr>\n",
              "  <th>opened_by</th>               <td>    0.0381</td> <td>    0.090</td> <td>    0.426</td> <td> 0.670</td> <td>   -0.137</td> <td>    0.214</td>\n",
              "</tr>\n",
              "<tr>\n",
              "  <th>sys_created_by</th>          <td>   -0.3841</td> <td>    0.090</td> <td>   -4.279</td> <td> 0.000</td> <td>   -0.560</td> <td>   -0.208</td>\n",
              "</tr>\n",
              "<tr>\n",
              "  <th>location</th>                <td>    0.1238</td> <td>    0.086</td> <td>    1.435</td> <td> 0.151</td> <td>   -0.045</td> <td>    0.293</td>\n",
              "</tr>\n",
              "<tr>\n",
              "  <th>category</th>                <td>   -0.3715</td> <td>    0.087</td> <td>   -4.289</td> <td> 0.000</td> <td>   -0.541</td> <td>   -0.202</td>\n",
              "</tr>\n",
              "<tr>\n",
              "  <th>subcategory</th>             <td>   -0.6079</td> <td>    0.087</td> <td>   -6.990</td> <td> 0.000</td> <td>   -0.778</td> <td>   -0.437</td>\n",
              "</tr>\n",
              "<tr>\n",
              "  <th>u_symptom</th>               <td>    0.1947</td> <td>    0.086</td> <td>    2.258</td> <td> 0.024</td> <td>    0.026</td> <td>    0.364</td>\n",
              "</tr>\n",
              "<tr>\n",
              "  <th>priority</th>                <td>    1.7848</td> <td>    0.089</td> <td>   20.142</td> <td> 0.000</td> <td>    1.611</td> <td>    1.958</td>\n",
              "</tr>\n",
              "<tr>\n",
              "  <th>assignment_group</th>        <td>    0.8169</td> <td>    0.089</td> <td>    9.195</td> <td> 0.000</td> <td>    0.643</td> <td>    0.991</td>\n",
              "</tr>\n",
              "<tr>\n",
              "  <th>assigned_to</th>             <td>    1.7767</td> <td>    0.089</td> <td>   20.075</td> <td> 0.000</td> <td>    1.603</td> <td>    1.950</td>\n",
              "</tr>\n",
              "<tr>\n",
              "  <th>knowledge</th>               <td>    2.0969</td> <td>    0.112</td> <td>   18.717</td> <td> 0.000</td> <td>    1.877</td> <td>    2.316</td>\n",
              "</tr>\n",
              "<tr>\n",
              "  <th>u_priority_confirmation</th> <td>    0.3083</td> <td>    0.114</td> <td>    2.693</td> <td> 0.007</td> <td>    0.084</td> <td>    0.533</td>\n",
              "</tr>\n",
              "</table>\n",
              "<table class=\"simpletable\">\n",
              "<tr>\n",
              "  <th>Omnibus:</th>       <td>87969.383</td> <th>  Durbin-Watson:     </th>  <td>   0.446</td>  \n",
              "</tr>\n",
              "<tr>\n",
              "  <th>Prob(Omnibus):</th>  <td> 0.000</td>   <th>  Jarque-Bera (JB):  </th> <td>4364059.487</td>\n",
              "</tr>\n",
              "<tr>\n",
              "  <th>Skew:</th>           <td> 4.779</td>   <th>  Prob(JB):          </th>  <td>    0.00</td>  \n",
              "</tr>\n",
              "<tr>\n",
              "  <th>Kurtosis:</th>       <td>35.560</td>   <th>  Cond. No.          </th>  <td>    2.86</td>  \n",
              "</tr>\n",
              "</table><br/><br/>Warnings:<br/>[1] Standard Errors assume that the covariance matrix of the errors is correctly specified."
            ],
            "text/plain": [
              "<class 'statsmodels.iolib.summary.Summary'>\n",
              "\"\"\"\n",
              "                              OLS Regression Results                             \n",
              "=================================================================================\n",
              "Dep. Variable:     predicted_closed_days   R-squared:                       0.222\n",
              "Model:                               OLS   Adj. R-squared:                  0.221\n",
              "Method:                    Least Squares   F-statistic:                     1294.\n",
              "Date:                   Tue, 10 Nov 2020   Prob (F-statistic):               0.00\n",
              "Time:                           21:18:22   Log-Likelihood:            -4.2480e+05\n",
              "No. Observations:                  90956   AIC:                         8.496e+05\n",
              "Df Residuals:                      90935   BIC:                         8.498e+05\n",
              "Df Model:                             20                                         \n",
              "Covariance Type:               nonrobust                                         \n",
              "===========================================================================================\n",
              "                              coef    std err          t      P>|t|      [0.025      0.975]\n",
              "-------------------------------------------------------------------------------------------\n",
              "const                      19.1612      0.086    223.725      0.000      18.993      19.329\n",
              "reassignment_count         -8.6085      0.123    -69.986      0.000      -8.850      -8.367\n",
              "reopen_count               -1.8479      0.113    -16.331      0.000      -2.070      -1.626\n",
              "sys_mod_count              18.5843      0.128    144.871      0.000      18.333      18.836\n",
              "opened_month               -0.1957      0.100     -1.966      0.049      -0.391      -0.001\n",
              "opened_day                 -0.4354      0.098     -4.434      0.000      -0.628      -0.243\n",
              "opened_hour                 0.5092      0.086      5.905      0.000       0.340       0.678\n",
              "opened_minute              -0.5180      0.104     -4.978      0.000      -0.722      -0.314\n",
              "sys_created_minute          0.4970      0.104      4.782      0.000       0.293       0.701\n",
              "incident_state              3.0472      0.090     33.877      0.000       2.871       3.223\n",
              "opened_by                   0.0381      0.090      0.426      0.670      -0.137       0.214\n",
              "sys_created_by             -0.3841      0.090     -4.279      0.000      -0.560      -0.208\n",
              "location                    0.1238      0.086      1.435      0.151      -0.045       0.293\n",
              "category                   -0.3715      0.087     -4.289      0.000      -0.541      -0.202\n",
              "subcategory                -0.6079      0.087     -6.990      0.000      -0.778      -0.437\n",
              "u_symptom                   0.1947      0.086      2.258      0.024       0.026       0.364\n",
              "priority                    1.7848      0.089     20.142      0.000       1.611       1.958\n",
              "assignment_group            0.8169      0.089      9.195      0.000       0.643       0.991\n",
              "assigned_to                 1.7767      0.089     20.075      0.000       1.603       1.950\n",
              "knowledge                   2.0969      0.112     18.717      0.000       1.877       2.316\n",
              "u_priority_confirmation     0.3083      0.114      2.693      0.007       0.084       0.533\n",
              "==============================================================================\n",
              "Omnibus:                    87969.383   Durbin-Watson:                   0.446\n",
              "Prob(Omnibus):                  0.000   Jarque-Bera (JB):          4364059.487\n",
              "Skew:                           4.779   Prob(JB):                         0.00\n",
              "Kurtosis:                      35.560   Cond. No.                         2.86\n",
              "==============================================================================\n",
              "\n",
              "Warnings:\n",
              "[1] Standard Errors assume that the covariance matrix of the errors is correctly specified.\n",
              "\"\"\""
            ]
          },
          "metadata": {
            "tags": []
          },
          "execution_count": 39
        }
      ]
    },
    {
      "cell_type": "markdown",
      "metadata": {
        "id": "kkao5AQOBjor"
      },
      "source": [
        "**Inference:** We can see now that Condition number is now come down to only2.86 which is pretty nice"
      ]
    },
    {
      "cell_type": "code",
      "metadata": {
        "id": "4TqSMNJbBs5F"
      },
      "source": [
        ""
      ],
      "execution_count": null,
      "outputs": []
    },
    {
      "cell_type": "markdown",
      "metadata": {
        "id": "IT-KPw1JtmRo"
      },
      "source": [
        "## Assumption 2: Normality test"
      ]
    },
    {
      "cell_type": "code",
      "metadata": {
        "id": "LyUGmnshtmRp",
        "outputId": "f033b41c-6c94-46ed-bd7c-eee3afe2e410",
        "colab": {
          "base_uri": "https://localhost:8080/"
        }
      },
      "source": [
        "# statistical test \n",
        "# jarque bera where test value should be less\n",
        "# H0 : Normally distributed\n",
        "# H1: Not normally distributed\n",
        "\n",
        "from scipy import stats\n",
        "t, pval = stats.jarque_bera(ols_mod.resid)\n",
        "\n",
        "if pval>=0.05:\n",
        "    print(f\"jarque-ber test pvalue : {pval}\")\n",
        "    print(\"Residues are normally distributed\")\n",
        "else:\n",
        "    print(f\"jarque-ber test pvalue : {pval}\")\n",
        "    print(\"Residues are not normally distributed\")"
      ],
      "execution_count": 41,
      "outputs": [
        {
          "output_type": "stream",
          "text": [
            "jarque-ber test pvalue : 0.0\n",
            "Residues are not normally distributed\n"
          ],
          "name": "stdout"
        }
      ]
    },
    {
      "cell_type": "code",
      "metadata": {
        "id": "jOBhdYuLtmRy",
        "outputId": "937da95b-901e-412f-a70b-56af2591ae07",
        "colab": {
          "base_uri": "https://localhost:8080/",
          "height": 286
        }
      },
      "source": [
        "# checking visually\n",
        "sns.distplot(ols_mod.resid)"
      ],
      "execution_count": 42,
      "outputs": [
        {
          "output_type": "execute_result",
          "data": {
            "text/plain": [
              "<matplotlib.axes._subplots.AxesSubplot at 0x7f8a84336208>"
            ]
          },
          "metadata": {
            "tags": []
          },
          "execution_count": 42
        },
        {
          "output_type": "display_data",
          "data": {
            "image/png": "[encoded data removed]",
            "text/plain": [
              "<Figure size 432x288 with 1 Axes>"
            ]
          },
          "metadata": {
            "tags": [],
            "needs_background": "light"
          }
        }
      ]
    },
    {
      "cell_type": "markdown",
      "metadata": {
        "id": "nHP7cOLWtmR3"
      },
      "source": [
        "**Inference:**\n",
        "    We can see residues are not normally distributed indicating few very high or very low values probably causing skewness. We can see that target has lots of values which are either too high or too low which also makes sense as some cases are taking longer than usual to be resolec"
      ]
    },
    {
      "cell_type": "markdown",
      "metadata": {
        "id": "bWaKxRHntmR3"
      },
      "source": [
        "## Assumption3: Linearity of Residuals:"
      ]
    },
    {
      "cell_type": "code",
      "metadata": {
        "id": "dFSvsZjmtmR4"
      },
      "source": [
        "ypred = ols_mod.predict(X_constant)\n",
        "\n"
      ],
      "execution_count": 43,
      "outputs": []
    },
    {
      "cell_type": "code",
      "metadata": {
        "id": "8Ty07sRqtmR8",
        "outputId": "9d3516af-97e8-4bf9-c96f-d63c564405c2",
        "colab": {
          "base_uri": "https://localhost:8080/",
          "height": 298
        }
      },
      "source": [
        "#plot observed should be linear\n",
        "plt.title(\"predicted vs target\")\n",
        "sns.regplot(ypred, y, line_kws= {'color':'red'})\n",
        "# sns.scatterplot(ypred, y)"
      ],
      "execution_count": 46,
      "outputs": [
        {
          "output_type": "execute_result",
          "data": {
            "text/plain": [
              "<matplotlib.axes._subplots.AxesSubplot at 0x7f8a83bc2588>"
            ]
          },
          "metadata": {
            "tags": []
          },
          "execution_count": 46
        },
        {
          "output_type": "display_data",
          "data": {
            "image/png": "[encoded data removed]",
            "text/plain": [
              "<Figure size 432x288 with 1 Axes>"
            ]
          },
          "metadata": {
            "tags": [],
            "needs_background": "light"
          }
        }
      ]
    },
    {
      "cell_type": "code",
      "metadata": {
        "id": "k3h_Sb0QtmSA",
        "outputId": "8a6ca3dd-9b88-4f70-8d14-fed684b0f21e",
        "colab": {
          "base_uri": "https://localhost:8080/",
          "height": 298
        }
      },
      "source": [
        "# plot observed should be random\n",
        "plt.title(\"residues vs target\")\n",
        "sns.regplot(ols_mod.resid, y, line_kws= {'color':'red'})"
      ],
      "execution_count": 47,
      "outputs": [
        {
          "output_type": "execute_result",
          "data": {
            "text/plain": [
              "<matplotlib.axes._subplots.AxesSubplot at 0x7f8a83c15978>"
            ]
          },
          "metadata": {
            "tags": []
          },
          "execution_count": 47
        },
        {
          "output_type": "display_data",
          "data": {
            "image/png": "[encoded data removed]",
            "text/plain": [
              "<Figure size 432x288 with 1 Axes>"
            ]
          },
          "metadata": {
            "tags": [],
            "needs_background": "light"
          }
        }
      ]
    },
    {
      "cell_type": "code",
      "metadata": {
        "id": "SxCSescltmSF",
        "outputId": "a9e2b911-de00-4356-cd47-a346f677a3c5",
        "colab": {
          "base_uri": "https://localhost:8080/"
        }
      },
      "source": [
        "# statistical test\n",
        "import statsmodels.api as sm\n",
        "\n",
        "# h0: section of data is linear\n",
        "# H1: section of data is not linear\n",
        "\n",
        "t, pval = sm.stats.diagnostic.linear_rainbow(res=ols_mod, frac=0.5)\n",
        "\n",
        "if pval>=0.05:\n",
        "    print(f\"linear_rainbow test pvalue : {pval}\")\n",
        "    print(\"Null accepted: section of data is linear\")\n",
        "else:\n",
        "    print(f\"linear_rainbow test pvalue : {pval}\")\n",
        "    print(\"Section of data is non linear\")"
      ],
      "execution_count": 49,
      "outputs": [
        {
          "output_type": "stream",
          "text": [
            "linear_rainbow test pvalue : 0.010234926534894549\n",
            "Section of data is non linear\n"
          ],
          "name": "stdout"
        }
      ]
    },
    {
      "cell_type": "code",
      "metadata": {
        "id": "FqzeRrAbtmSK",
        "outputId": "e56b66cb-0039-46c3-e392-5ea1affff00a",
        "colab": {
          "base_uri": "https://localhost:8080/",
          "height": 294
        }
      },
      "source": [
        "from scipy import stats\n",
        "# should be less deviated\n",
        "\n",
        "stats.probplot(ols_mod.resid, plot=plt);"
      ],
      "execution_count": 50,
      "outputs": [
        {
          "output_type": "display_data",
          "data": {
            "image/png": "[encoded data removed]",
            "text/plain": [
              "<Figure size 432x288 with 1 Axes>"
            ]
          },
          "metadata": {
            "tags": [],
            "needs_background": "light"
          }
        }
      ]
    },
    {
      "cell_type": "markdown",
      "metadata": {
        "id": "iodbJVeTtmSO"
      },
      "source": [
        "**Inference:**\n",
        "    Actually there should be less deaviation however we can see it highly deviated so probably not-linear"
      ]
    },
    {
      "cell_type": "markdown",
      "metadata": {
        "id": "8nKXKVbNtmSO"
      },
      "source": [
        "### 4. Autocorelation:"
      ]
    },
    {
      "cell_type": "markdown",
      "metadata": {
        "id": "_z5NJDiitmSP"
      },
      "source": [
        "statistically we can use durbin watsom test to check auto-corealtion\n",
        "\n",
        "    0-2: positive autocorrelation\n",
        "      2: no autocorealtion\n",
        "    2-4: negative autocorrelation"
      ]
    },
    {
      "cell_type": "code",
      "metadata": {
        "id": "ACWs9aG3tmSP",
        "outputId": "96f95649-72a7-430e-cda6-f7db263faad0",
        "colab": {
          "base_uri": "https://localhost:8080/",
          "height": 281
        }
      },
      "source": [
        "import statsmodels.tsa.api as smt\n",
        "acf = smt.graphics.plot_acf(ols_mod.resid, lags=40, alpha=0.6)"
      ],
      "execution_count": 52,
      "outputs": [
        {
          "output_type": "display_data",
          "data": {
            "image/png": "[encoded data removed]",
            "text/plain": [
              "<Figure size 432x288 with 1 Axes>"
            ]
          },
          "metadata": {
            "tags": [],
            "needs_background": "light"
          }
        }
      ]
    },
    {
      "cell_type": "markdown",
      "metadata": {
        "id": "6pUdnAtdtmSS"
      },
      "source": [
        "**Inference:**\n",
        "    out durbin watson value is 0.4 indicating positive autocorelation, generally if residues are normally distributed we do not have auto-corelation problem , what we can do is probably scle the features or apply transformation on inputs one by one."
      ]
    },
    {
      "cell_type": "markdown",
      "metadata": {
        "id": "x0GBSJ6DtmST"
      },
      "source": [
        "### 5. Homoscedasticity\n",
        "\n",
        "checking whether residuals are symmetrically distributed across trend or follow a pattern (should be random)"
      ]
    },
    {
      "cell_type": "code",
      "metadata": {
        "id": "NdUOskxCtmSU",
        "outputId": "c73d429a-0b39-4886-eed0-7071b250c228",
        "colab": {
          "base_uri": "https://localhost:8080/"
        }
      },
      "source": [
        "#statistical test\n",
        " # H0: model is homoscadic\n",
        " # H1: model is heteroscadic\n",
        "\n",
        "from statsmodels.stats.api import het_goldfeldquandt\n",
        "t,pval, _ = het_goldfeldquandt(ols_mod.resid, ols_mod.model.exog)\n",
        "\n",
        "if pval >0.05:\n",
        "    print(f\"goldfeldquandt test pvalue : {pval}\")\n",
        "    print(\"Null accepted: homoscedastic\")\n",
        "else:\n",
        "    print(f\"goldfeldquandt test pvalue : {pval}\")\n",
        "    print(\"Null rejected: heteroscadic\")"
      ],
      "execution_count": 54,
      "outputs": [
        {
          "output_type": "stream",
          "text": [
            "goldfeldquandt test pvalue : 0.9999999999999999\n",
            "Null accepted: homoscedastic\n"
          ],
          "name": "stdout"
        }
      ]
    },
    {
      "cell_type": "code",
      "metadata": {
        "id": "NTsTteYrtmSX",
        "outputId": "c3345c02-d33d-4040-ec6c-a24c0ec7dbed",
        "colab": {
          "base_uri": "https://localhost:8080/",
          "height": 282
        }
      },
      "source": [
        "# checking visually\n",
        "sns.residplot(ypred, ols_mod.resid)"
      ],
      "execution_count": 55,
      "outputs": [
        {
          "output_type": "execute_result",
          "data": {
            "text/plain": [
              "<matplotlib.axes._subplots.AxesSubplot at 0x7f8a8216f358>"
            ]
          },
          "metadata": {
            "tags": []
          },
          "execution_count": 55
        },
        {
          "output_type": "display_data",
          "data": {
            "image/png": "[encoded data removed]",
            "text/plain": [
              "<Figure size 432x288 with 1 Axes>"
            ]
          },
          "metadata": {
            "tags": [],
            "needs_background": "light"
          }
        }
      ]
    },
    {
      "cell_type": "markdown",
      "metadata": {
        "id": "EVvZqqDntmSa"
      },
      "source": [
        "**Inference:**\n",
        "    As we can see half of the assumptions as not satisfied so it is not best to use the linear model over here."
      ]
    },
    {
      "cell_type": "markdown",
      "metadata": {
        "id": "QPGHMIXFtmSe"
      },
      "source": [
        "### As we can see most of the assumtions i.e out of 5 assumtptions 3 were not met which made it clear that using a linear model might not be the best choice."
      ]
    },
    {
      "cell_type": "code",
      "metadata": {
        "id": "cxTYc4Q-Nu4u"
      },
      "source": [
        "significant_features = ols_mod.pvalues[ols_mod.pvalues < 0.05].index\n",
        "insignificant_features = ols_mod.pvalues[ols_mod.pvalues > 0.05].index.tolist()"
      ],
      "execution_count": 56,
      "outputs": []
    },
    {
      "cell_type": "code",
      "metadata": {
        "id": "a1yU8GNUN3FR",
        "outputId": "3578f39d-ee35-41f6-f262-cc0e551e33fb",
        "colab": {
          "base_uri": "https://localhost:8080/"
        }
      },
      "source": [
        "insignificant_features"
      ],
      "execution_count": 57,
      "outputs": [
        {
          "output_type": "execute_result",
          "data": {
            "text/plain": [
              "['opened_by', 'location']"
            ]
          },
          "metadata": {
            "tags": []
          },
          "execution_count": 57
        }
      ]
    },
    {
      "cell_type": "code",
      "metadata": {
        "id": "4hxmkeJON6FL"
      },
      "source": [
        "inp2=X_final.drop(insignificant_features[1:],axis=1)\n"
      ],
      "execution_count": 58,
      "outputs": []
    },
    {
      "cell_type": "code",
      "metadata": {
        "id": "UM9PLccwOHFv",
        "outputId": "57367bcd-6fcf-4612-dddf-99f82920ce1f",
        "colab": {
          "base_uri": "https://localhost:8080/",
          "height": 761
        }
      },
      "source": [
        "# checking model after using columns with signifact features\n",
        "X_constant=sm.add_constant(inp2)\n",
        "\n",
        "ols = sm.OLS(y, X_constant)\n",
        "ols_mod3 = ols.fit()\n",
        "ols_mod3.summary()"
      ],
      "execution_count": 59,
      "outputs": [
        {
          "output_type": "execute_result",
          "data": {
            "text/html": [
              "<table class=\"simpletable\">\n",
              "<caption>OLS Regression Results</caption>\n",
              "<tr>\n",
              "  <th>Dep. Variable:</th>    <td>predicted_closed_days</td> <th>  R-squared:         </th>  <td>   0.222</td>  \n",
              "</tr>\n",
              "<tr>\n",
              "  <th>Model:</th>                     <td>OLS</td>          <th>  Adj. R-squared:    </th>  <td>   0.222</td>  \n",
              "</tr>\n",
              "<tr>\n",
              "  <th>Method:</th>               <td>Least Squares</td>     <th>  F-statistic:       </th>  <td>   1178.</td>  \n",
              "</tr>\n",
              "<tr>\n",
              "  <th>Date:</th>               <td>Tue, 10 Nov 2020</td>    <th>  Prob (F-statistic):</th>   <td>  0.00</td>   \n",
              "</tr>\n",
              "<tr>\n",
              "  <th>Time:</th>                   <td>21:27:38</td>        <th>  Log-Likelihood:    </th> <td>-4.2478e+05</td>\n",
              "</tr>\n",
              "<tr>\n",
              "  <th>No. Observations:</th>        <td> 90956</td>         <th>  AIC:               </th>  <td>8.496e+05</td> \n",
              "</tr>\n",
              "<tr>\n",
              "  <th>Df Residuals:</th>            <td> 90933</td>         <th>  BIC:               </th>  <td>8.498e+05</td> \n",
              "</tr>\n",
              "<tr>\n",
              "  <th>Df Model:</th>                <td>    22</td>         <th>                     </th>      <td> </td>     \n",
              "</tr>\n",
              "<tr>\n",
              "  <th>Covariance Type:</th>        <td>nonrobust</td>       <th>                     </th>      <td> </td>     \n",
              "</tr>\n",
              "</table>\n",
              "<table class=\"simpletable\">\n",
              "<tr>\n",
              "             <td></td>                <th>coef</th>     <th>std err</th>      <th>t</th>      <th>P>|t|</th>  <th>[0.025</th>    <th>0.975]</th>  \n",
              "</tr>\n",
              "<tr>\n",
              "  <th>const</th>                   <td>   19.1612</td> <td>    0.086</td> <td>  223.761</td> <td> 0.000</td> <td>   18.993</td> <td>   19.329</td>\n",
              "</tr>\n",
              "<tr>\n",
              "  <th>reassignment_count</th>      <td>   -8.6204</td> <td>    0.123</td> <td>  -70.075</td> <td> 0.000</td> <td>   -8.861</td> <td>   -8.379</td>\n",
              "</tr>\n",
              "<tr>\n",
              "  <th>reopen_count</th>            <td>   -1.8472</td> <td>    0.113</td> <td>  -16.330</td> <td> 0.000</td> <td>   -2.069</td> <td>   -1.626</td>\n",
              "</tr>\n",
              "<tr>\n",
              "  <th>sys_mod_count</th>           <td>   18.5539</td> <td>    0.128</td> <td>  144.582</td> <td> 0.000</td> <td>   18.302</td> <td>   18.805</td>\n",
              "</tr>\n",
              "<tr>\n",
              "  <th>opened_month</th>            <td>  -11.6538</td> <td>    1.984</td> <td>   -5.875</td> <td> 0.000</td> <td>  -15.542</td> <td>   -7.766</td>\n",
              "</tr>\n",
              "<tr>\n",
              "  <th>opened_day</th>              <td>   -4.1528</td> <td>    0.746</td> <td>   -5.568</td> <td> 0.000</td> <td>   -5.615</td> <td>   -2.691</td>\n",
              "</tr>\n",
              "<tr>\n",
              "  <th>opened_hour</th>             <td>    0.1872</td> <td>    0.382</td> <td>    0.490</td> <td> 0.624</td> <td>   -0.561</td> <td>    0.935</td>\n",
              "</tr>\n",
              "<tr>\n",
              "  <th>opened_minute</th>           <td>   -0.5437</td> <td>    0.107</td> <td>   -5.099</td> <td> 0.000</td> <td>   -0.753</td> <td>   -0.335</td>\n",
              "</tr>\n",
              "<tr>\n",
              "  <th>sys_created_month</th>       <td>   11.5114</td> <td>    1.991</td> <td>    5.782</td> <td> 0.000</td> <td>    7.609</td> <td>   15.414</td>\n",
              "</tr>\n",
              "<tr>\n",
              "  <th>sys_created_day</th>         <td>    3.6994</td> <td>    0.743</td> <td>    4.977</td> <td> 0.000</td> <td>    2.243</td> <td>    5.156</td>\n",
              "</tr>\n",
              "<tr>\n",
              "  <th>sys_created_hour</th>        <td>    0.3355</td> <td>    0.382</td> <td>    0.879</td> <td> 0.379</td> <td>   -0.412</td> <td>    1.084</td>\n",
              "</tr>\n",
              "<tr>\n",
              "  <th>sys_created_minute</th>      <td>    0.5217</td> <td>    0.107</td> <td>    4.873</td> <td> 0.000</td> <td>    0.312</td> <td>    0.732</td>\n",
              "</tr>\n",
              "<tr>\n",
              "  <th>incident_state</th>          <td>    3.0170</td> <td>    0.090</td> <td>   33.473</td> <td> 0.000</td> <td>    2.840</td> <td>    3.194</td>\n",
              "</tr>\n",
              "<tr>\n",
              "  <th>opened_by</th>               <td>    0.0398</td> <td>    0.090</td> <td>    0.445</td> <td> 0.656</td> <td>   -0.136</td> <td>    0.215</td>\n",
              "</tr>\n",
              "<tr>\n",
              "  <th>sys_created_by</th>          <td>   -0.3890</td> <td>    0.090</td> <td>   -4.333</td> <td> 0.000</td> <td>   -0.565</td> <td>   -0.213</td>\n",
              "</tr>\n",
              "<tr>\n",
              "  <th>category</th>                <td>   -0.3730</td> <td>    0.087</td> <td>   -4.308</td> <td> 0.000</td> <td>   -0.543</td> <td>   -0.203</td>\n",
              "</tr>\n",
              "<tr>\n",
              "  <th>subcategory</th>             <td>   -0.6075</td> <td>    0.087</td> <td>   -6.992</td> <td> 0.000</td> <td>   -0.778</td> <td>   -0.437</td>\n",
              "</tr>\n",
              "<tr>\n",
              "  <th>u_symptom</th>               <td>    0.1949</td> <td>    0.086</td> <td>    2.261</td> <td> 0.024</td> <td>    0.026</td> <td>    0.364</td>\n",
              "</tr>\n",
              "<tr>\n",
              "  <th>priority</th>                <td>    1.7806</td> <td>    0.089</td> <td>   20.097</td> <td> 0.000</td> <td>    1.607</td> <td>    1.954</td>\n",
              "</tr>\n",
              "<tr>\n",
              "  <th>assignment_group</th>        <td>    0.8141</td> <td>    0.089</td> <td>    9.160</td> <td> 0.000</td> <td>    0.640</td> <td>    0.988</td>\n",
              "</tr>\n",
              "<tr>\n",
              "  <th>assigned_to</th>             <td>    1.7925</td> <td>    0.089</td> <td>   20.239</td> <td> 0.000</td> <td>    1.619</td> <td>    1.966</td>\n",
              "</tr>\n",
              "<tr>\n",
              "  <th>knowledge</th>               <td>    2.1034</td> <td>    0.112</td> <td>   18.740</td> <td> 0.000</td> <td>    1.883</td> <td>    2.323</td>\n",
              "</tr>\n",
              "<tr>\n",
              "  <th>u_priority_confirmation</th> <td>    0.3089</td> <td>    0.114</td> <td>    2.698</td> <td> 0.007</td> <td>    0.085</td> <td>    0.533</td>\n",
              "</tr>\n",
              "</table>\n",
              "<table class=\"simpletable\">\n",
              "<tr>\n",
              "  <th>Omnibus:</th>       <td>88031.842</td> <th>  Durbin-Watson:     </th>  <td>   0.446</td>  \n",
              "</tr>\n",
              "<tr>\n",
              "  <th>Prob(Omnibus):</th>  <td> 0.000</td>   <th>  Jarque-Bera (JB):  </th> <td>4375972.277</td>\n",
              "</tr>\n",
              "<tr>\n",
              "  <th>Skew:</th>           <td> 4.784</td>   <th>  Prob(JB):          </th>  <td>    0.00</td>  \n",
              "</tr>\n",
              "<tr>\n",
              "  <th>Kurtosis:</th>       <td>35.606</td>   <th>  Cond. No.          </th>  <td>    56.6</td>  \n",
              "</tr>\n",
              "</table><br/><br/>Warnings:<br/>[1] Standard Errors assume that the covariance matrix of the errors is correctly specified."
            ],
            "text/plain": [
              "<class 'statsmodels.iolib.summary.Summary'>\n",
              "\"\"\"\n",
              "                              OLS Regression Results                             \n",
              "=================================================================================\n",
              "Dep. Variable:     predicted_closed_days   R-squared:                       0.222\n",
              "Model:                               OLS   Adj. R-squared:                  0.222\n",
              "Method:                    Least Squares   F-statistic:                     1178.\n",
              "Date:                   Tue, 10 Nov 2020   Prob (F-statistic):               0.00\n",
              "Time:                           21:27:38   Log-Likelihood:            -4.2478e+05\n",
              "No. Observations:                  90956   AIC:                         8.496e+05\n",
              "Df Residuals:                      90933   BIC:                         8.498e+05\n",
              "Df Model:                             22                                         \n",
              "Covariance Type:               nonrobust                                         \n",
              "===========================================================================================\n",
              "                              coef    std err          t      P>|t|      [0.025      0.975]\n",
              "-------------------------------------------------------------------------------------------\n",
              "const                      19.1612      0.086    223.761      0.000      18.993      19.329\n",
              "reassignment_count         -8.6204      0.123    -70.075      0.000      -8.861      -8.379\n",
              "reopen_count               -1.8472      0.113    -16.330      0.000      -2.069      -1.626\n",
              "sys_mod_count              18.5539      0.128    144.582      0.000      18.302      18.805\n",
              "opened_month              -11.6538      1.984     -5.875      0.000     -15.542      -7.766\n",
              "opened_day                 -4.1528      0.746     -5.568      0.000      -5.615      -2.691\n",
              "opened_hour                 0.1872      0.382      0.490      0.624      -0.561       0.935\n",
              "opened_minute              -0.5437      0.107     -5.099      0.000      -0.753      -0.335\n",
              "sys_created_month          11.5114      1.991      5.782      0.000       7.609      15.414\n",
              "sys_created_day             3.6994      0.743      4.977      0.000       2.243       5.156\n",
              "sys_created_hour            0.3355      0.382      0.879      0.379      -0.412       1.084\n",
              "sys_created_minute          0.5217      0.107      4.873      0.000       0.312       0.732\n",
              "incident_state              3.0170      0.090     33.473      0.000       2.840       3.194\n",
              "opened_by                   0.0398      0.090      0.445      0.656      -0.136       0.215\n",
              "sys_created_by             -0.3890      0.090     -4.333      0.000      -0.565      -0.213\n",
              "category                   -0.3730      0.087     -4.308      0.000      -0.543      -0.203\n",
              "subcategory                -0.6075      0.087     -6.992      0.000      -0.778      -0.437\n",
              "u_symptom                   0.1949      0.086      2.261      0.024       0.026       0.364\n",
              "priority                    1.7806      0.089     20.097      0.000       1.607       1.954\n",
              "assignment_group            0.8141      0.089      9.160      0.000       0.640       0.988\n",
              "assigned_to                 1.7925      0.089     20.239      0.000       1.619       1.966\n",
              "knowledge                   2.1034      0.112     18.740      0.000       1.883       2.323\n",
              "u_priority_confirmation     0.3089      0.114      2.698      0.007       0.085       0.533\n",
              "==============================================================================\n",
              "Omnibus:                    88031.842   Durbin-Watson:                   0.446\n",
              "Prob(Omnibus):                  0.000   Jarque-Bera (JB):          4375972.277\n",
              "Skew:                           4.784   Prob(JB):                         0.00\n",
              "Kurtosis:                      35.606   Cond. No.                         56.6\n",
              "==============================================================================\n",
              "\n",
              "Warnings:\n",
              "[1] Standard Errors assume that the covariance matrix of the errors is correctly specified.\n",
              "\"\"\""
            ]
          },
          "metadata": {
            "tags": []
          },
          "execution_count": 59
        }
      ]
    },
    {
      "cell_type": "code",
      "metadata": {
        "id": "fDfHxRUKOKIL",
        "outputId": "cc8eaeed-73bf-4449-c016-2b43a85d752a",
        "colab": {
          "base_uri": "https://localhost:8080/"
        }
      },
      "source": [
        "from sklearn.ensemble import RandomForestRegressor\n",
        "\n",
        "rfe = RandomForestRegressor(random_state=4)\n",
        "rfe.fit(inp2, y)"
      ],
      "execution_count": 60,
      "outputs": [
        {
          "output_type": "execute_result",
          "data": {
            "text/plain": [
              "RandomForestRegressor(bootstrap=True, ccp_alpha=0.0, criterion='mse',\n",
              "                      max_depth=None, max_features='auto', max_leaf_nodes=None,\n",
              "                      max_samples=None, min_impurity_decrease=0.0,\n",
              "                      min_impurity_split=None, min_samples_leaf=1,\n",
              "                      min_samples_split=2, min_weight_fraction_leaf=0.0,\n",
              "                      n_estimators=100, n_jobs=None, oob_score=False,\n",
              "                      random_state=4, verbose=0, warm_start=False)"
            ]
          },
          "metadata": {
            "tags": []
          },
          "execution_count": 60
        }
      ]
    },
    {
      "cell_type": "code",
      "metadata": {
        "id": "YO0GdxGrDMml"
      },
      "source": [
        "# plt.figure(figsize=(15,10))\n",
        "# plt.barh(inp2.columns,rfe.feature_importances_)"
      ],
      "execution_count": 63,
      "outputs": []
    },
    {
      "cell_type": "code",
      "metadata": {
        "id": "Ys1L5Vk-OTEx",
        "outputId": "e053ba47-480b-4627-ac30-65a91329fd01",
        "colab": {
          "base_uri": "https://localhost:8080/",
          "height": 622
        }
      },
      "source": [
        "feat_imp = pd.DataFrame({'features':inp2.columns.tolist(),\n",
        "             'feature_importance':rfe.feature_importances_}).sort_values(by='feature_importance', ascending=False)\n",
        "\n",
        "plt.figure(figsize=(15,10))\n",
        "sns.barplot( 'feature_importance', 'features', data=feat_imp)\n",
        "plt.title(\"Features and their importance\")\n",
        "\n",
        "plt.show()"
      ],
      "execution_count": 62,
      "outputs": [
        {
          "output_type": "display_data",
          "data": {
            "image/png": "[encoded data removed]",
            "text/plain": [
              "<Figure size 1080x720 with 1 Axes>"
            ]
          },
          "metadata": {
            "tags": [],
            "needs_background": "light"
          }
        }
      ]
    }
  ]
}