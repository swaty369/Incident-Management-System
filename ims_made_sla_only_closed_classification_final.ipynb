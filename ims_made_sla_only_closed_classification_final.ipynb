{
  "nbformat": 4,
  "nbformat_minor": 0,
  "metadata": {
    "kernelspec": {
      "display_name": "Python 3",
      "language": "python",
      "name": "python3"
    },
    "language_info": {
      "codemirror_mode": {
        "name": "ipython",
        "version": 3
      },
      "file_extension": ".py",
      "mimetype": "text/x-python",
      "name": "python",
      "nbconvert_exporter": "python",
      "pygments_lexer": "ipython3",
      "version": "3.7.9"
    },
    "colab": {
      "name": "ims_made_sla_only_closed_classification_final.ipynb",
      "provenance": [],
      "collapsed_sections": [],
      "include_colab_link": true
    }
  },
  "cells": [
    {
      "cell_type": "markdown",
      "metadata": {
        "id": "view-in-github",
        "colab_type": "text"
      },
      "source": [
        "<a href=\"https://colab.research.google.com/github/swaty369/Incident-Management-System/blob/final_files/ims_made_sla_only_closed_classification_final.ipynb\" target=\"_parent\"><img src=\"https://colab.research.google.com/assets/colab-badge.svg\" alt=\"Open In Colab\"/></a>"
      ]
    },
    {
      "cell_type": "code",
      "metadata": {
        "id": "Y7ai8PKe2W-T",
        "outputId": "188f109f-da76-4b95-a57b-aa5eb0aba58e",
        "colab": {
          "base_uri": "https://localhost:8080/"
        }
      },
      "source": [
        "# mount drive\n",
        "from google.colab import drive\n",
        "drive.mount('/content/drive')"
      ],
      "execution_count": 1,
      "outputs": [
        {
          "output_type": "stream",
          "text": [
            "Mounted at /content/drive\n"
          ],
          "name": "stdout"
        }
      ]
    },
    {
      "cell_type": "code",
      "metadata": {
        "id": "uv1I_Fpu2Md6"
      },
      "source": [
        "import pandas as pd\n",
        "import numpy as np\n",
        "import seaborn as sns\n",
        "import matplotlib.pyplot as plt\n",
        "import warnings\n",
        "warnings.filterwarnings(\"ignore\")\n",
        "pd.set_option('display.max_columns', None)"
      ],
      "execution_count": 2,
      "outputs": []
    },
    {
      "cell_type": "code",
      "metadata": {
        "id": "52RdmFHu2MeS",
        "outputId": "4a6437c5-89ee-4580-d145-5db185b5581d",
        "colab": {
          "base_uri": "https://localhost:8080/",
          "height": 301
        }
      },
      "source": [
        "data = pd.read_csv('/content/drive/My Drive/GL Capstone/incident_event_log.csv')\n",
        "data.head()"
      ],
      "execution_count": 3,
      "outputs": [
        {
          "output_type": "execute_result",
          "data": {
            "text/html": [
              "<div>\n",
              "<style scoped>\n",
              "    .dataframe tbody tr th:only-of-type {\n",
              "        vertical-align: middle;\n",
              "    }\n",
              "\n",
              "    .dataframe tbody tr th {\n",
              "        vertical-align: top;\n",
              "    }\n",
              "\n",
              "    .dataframe thead th {\n",
              "        text-align: right;\n",
              "    }\n",
              "</style>\n",
              "<table border=\"1\" class=\"dataframe\">\n",
              "  <thead>\n",
              "    <tr style=\"text-align: right;\">\n",
              "      <th></th>\n",
              "      <th>number</th>\n",
              "      <th>incident_state</th>\n",
              "      <th>active</th>\n",
              "      <th>reassignment_count</th>\n",
              "      <th>reopen_count</th>\n",
              "      <th>sys_mod_count</th>\n",
              "      <th>made_sla</th>\n",
              "      <th>caller_id</th>\n",
              "      <th>opened_by</th>\n",
              "      <th>opened_at</th>\n",
              "      <th>sys_created_by</th>\n",
              "      <th>sys_created_at</th>\n",
              "      <th>sys_updated_by</th>\n",
              "      <th>sys_updated_at</th>\n",
              "      <th>contact_type</th>\n",
              "      <th>location</th>\n",
              "      <th>category</th>\n",
              "      <th>subcategory</th>\n",
              "      <th>u_symptom</th>\n",
              "      <th>cmdb_ci</th>\n",
              "      <th>impact</th>\n",
              "      <th>urgency</th>\n",
              "      <th>priority</th>\n",
              "      <th>assignment_group</th>\n",
              "      <th>assigned_to</th>\n",
              "      <th>knowledge</th>\n",
              "      <th>u_priority_confirmation</th>\n",
              "      <th>notify</th>\n",
              "      <th>problem_id</th>\n",
              "      <th>rfc</th>\n",
              "      <th>vendor</th>\n",
              "      <th>caused_by</th>\n",
              "      <th>closed_code</th>\n",
              "      <th>resolved_by</th>\n",
              "      <th>resolved_at</th>\n",
              "      <th>closed_at</th>\n",
              "    </tr>\n",
              "  </thead>\n",
              "  <tbody>\n",
              "    <tr>\n",
              "      <th>0</th>\n",
              "      <td>INC0000045</td>\n",
              "      <td>New</td>\n",
              "      <td>True</td>\n",
              "      <td>0</td>\n",
              "      <td>0</td>\n",
              "      <td>0</td>\n",
              "      <td>True</td>\n",
              "      <td>Caller 2403</td>\n",
              "      <td>Opened by  8</td>\n",
              "      <td>29/2/2016 01:16</td>\n",
              "      <td>Created by 6</td>\n",
              "      <td>29/2/2016 01:23</td>\n",
              "      <td>Updated by 21</td>\n",
              "      <td>29/2/2016 01:23</td>\n",
              "      <td>Phone</td>\n",
              "      <td>Location 143</td>\n",
              "      <td>Category 55</td>\n",
              "      <td>Subcategory 170</td>\n",
              "      <td>Symptom 72</td>\n",
              "      <td>?</td>\n",
              "      <td>2 - Medium</td>\n",
              "      <td>2 - Medium</td>\n",
              "      <td>3 - Moderate</td>\n",
              "      <td>Group 56</td>\n",
              "      <td>?</td>\n",
              "      <td>True</td>\n",
              "      <td>False</td>\n",
              "      <td>Do Not Notify</td>\n",
              "      <td>?</td>\n",
              "      <td>?</td>\n",
              "      <td>?</td>\n",
              "      <td>?</td>\n",
              "      <td>code 5</td>\n",
              "      <td>Resolved by 149</td>\n",
              "      <td>29/2/2016 11:29</td>\n",
              "      <td>5/3/2016 12:00</td>\n",
              "    </tr>\n",
              "    <tr>\n",
              "      <th>1</th>\n",
              "      <td>INC0000045</td>\n",
              "      <td>Resolved</td>\n",
              "      <td>True</td>\n",
              "      <td>0</td>\n",
              "      <td>0</td>\n",
              "      <td>2</td>\n",
              "      <td>True</td>\n",
              "      <td>Caller 2403</td>\n",
              "      <td>Opened by  8</td>\n",
              "      <td>29/2/2016 01:16</td>\n",
              "      <td>Created by 6</td>\n",
              "      <td>29/2/2016 01:23</td>\n",
              "      <td>Updated by 642</td>\n",
              "      <td>29/2/2016 08:53</td>\n",
              "      <td>Phone</td>\n",
              "      <td>Location 143</td>\n",
              "      <td>Category 55</td>\n",
              "      <td>Subcategory 170</td>\n",
              "      <td>Symptom 72</td>\n",
              "      <td>?</td>\n",
              "      <td>2 - Medium</td>\n",
              "      <td>2 - Medium</td>\n",
              "      <td>3 - Moderate</td>\n",
              "      <td>Group 56</td>\n",
              "      <td>?</td>\n",
              "      <td>True</td>\n",
              "      <td>False</td>\n",
              "      <td>Do Not Notify</td>\n",
              "      <td>?</td>\n",
              "      <td>?</td>\n",
              "      <td>?</td>\n",
              "      <td>?</td>\n",
              "      <td>code 5</td>\n",
              "      <td>Resolved by 149</td>\n",
              "      <td>29/2/2016 11:29</td>\n",
              "      <td>5/3/2016 12:00</td>\n",
              "    </tr>\n",
              "    <tr>\n",
              "      <th>2</th>\n",
              "      <td>INC0000045</td>\n",
              "      <td>Resolved</td>\n",
              "      <td>True</td>\n",
              "      <td>0</td>\n",
              "      <td>0</td>\n",
              "      <td>3</td>\n",
              "      <td>True</td>\n",
              "      <td>Caller 2403</td>\n",
              "      <td>Opened by  8</td>\n",
              "      <td>29/2/2016 01:16</td>\n",
              "      <td>Created by 6</td>\n",
              "      <td>29/2/2016 01:23</td>\n",
              "      <td>Updated by 804</td>\n",
              "      <td>29/2/2016 11:29</td>\n",
              "      <td>Phone</td>\n",
              "      <td>Location 143</td>\n",
              "      <td>Category 55</td>\n",
              "      <td>Subcategory 170</td>\n",
              "      <td>Symptom 72</td>\n",
              "      <td>?</td>\n",
              "      <td>2 - Medium</td>\n",
              "      <td>2 - Medium</td>\n",
              "      <td>3 - Moderate</td>\n",
              "      <td>Group 56</td>\n",
              "      <td>?</td>\n",
              "      <td>True</td>\n",
              "      <td>False</td>\n",
              "      <td>Do Not Notify</td>\n",
              "      <td>?</td>\n",
              "      <td>?</td>\n",
              "      <td>?</td>\n",
              "      <td>?</td>\n",
              "      <td>code 5</td>\n",
              "      <td>Resolved by 149</td>\n",
              "      <td>29/2/2016 11:29</td>\n",
              "      <td>5/3/2016 12:00</td>\n",
              "    </tr>\n",
              "    <tr>\n",
              "      <th>3</th>\n",
              "      <td>INC0000045</td>\n",
              "      <td>Closed</td>\n",
              "      <td>False</td>\n",
              "      <td>0</td>\n",
              "      <td>0</td>\n",
              "      <td>4</td>\n",
              "      <td>True</td>\n",
              "      <td>Caller 2403</td>\n",
              "      <td>Opened by  8</td>\n",
              "      <td>29/2/2016 01:16</td>\n",
              "      <td>Created by 6</td>\n",
              "      <td>29/2/2016 01:23</td>\n",
              "      <td>Updated by 908</td>\n",
              "      <td>5/3/2016 12:00</td>\n",
              "      <td>Phone</td>\n",
              "      <td>Location 143</td>\n",
              "      <td>Category 55</td>\n",
              "      <td>Subcategory 170</td>\n",
              "      <td>Symptom 72</td>\n",
              "      <td>?</td>\n",
              "      <td>2 - Medium</td>\n",
              "      <td>2 - Medium</td>\n",
              "      <td>3 - Moderate</td>\n",
              "      <td>Group 56</td>\n",
              "      <td>?</td>\n",
              "      <td>True</td>\n",
              "      <td>False</td>\n",
              "      <td>Do Not Notify</td>\n",
              "      <td>?</td>\n",
              "      <td>?</td>\n",
              "      <td>?</td>\n",
              "      <td>?</td>\n",
              "      <td>code 5</td>\n",
              "      <td>Resolved by 149</td>\n",
              "      <td>29/2/2016 11:29</td>\n",
              "      <td>5/3/2016 12:00</td>\n",
              "    </tr>\n",
              "    <tr>\n",
              "      <th>4</th>\n",
              "      <td>INC0000047</td>\n",
              "      <td>New</td>\n",
              "      <td>True</td>\n",
              "      <td>0</td>\n",
              "      <td>0</td>\n",
              "      <td>0</td>\n",
              "      <td>True</td>\n",
              "      <td>Caller 2403</td>\n",
              "      <td>Opened by  397</td>\n",
              "      <td>29/2/2016 04:40</td>\n",
              "      <td>Created by 171</td>\n",
              "      <td>29/2/2016 04:57</td>\n",
              "      <td>Updated by 746</td>\n",
              "      <td>29/2/2016 04:57</td>\n",
              "      <td>Phone</td>\n",
              "      <td>Location 165</td>\n",
              "      <td>Category 40</td>\n",
              "      <td>Subcategory 215</td>\n",
              "      <td>Symptom 471</td>\n",
              "      <td>?</td>\n",
              "      <td>2 - Medium</td>\n",
              "      <td>2 - Medium</td>\n",
              "      <td>3 - Moderate</td>\n",
              "      <td>Group 70</td>\n",
              "      <td>Resolver 89</td>\n",
              "      <td>True</td>\n",
              "      <td>False</td>\n",
              "      <td>Do Not Notify</td>\n",
              "      <td>?</td>\n",
              "      <td>?</td>\n",
              "      <td>?</td>\n",
              "      <td>?</td>\n",
              "      <td>code 5</td>\n",
              "      <td>Resolved by 81</td>\n",
              "      <td>1/3/2016 09:52</td>\n",
              "      <td>6/3/2016 10:00</td>\n",
              "    </tr>\n",
              "  </tbody>\n",
              "</table>\n",
              "</div>"
            ],
            "text/plain": [
              "       number incident_state  active  reassignment_count  reopen_count  \\\n",
              "0  INC0000045            New    True                   0             0   \n",
              "1  INC0000045       Resolved    True                   0             0   \n",
              "2  INC0000045       Resolved    True                   0             0   \n",
              "3  INC0000045         Closed   False                   0             0   \n",
              "4  INC0000047            New    True                   0             0   \n",
              "\n",
              "   sys_mod_count  made_sla    caller_id       opened_by        opened_at  \\\n",
              "0              0      True  Caller 2403    Opened by  8  29/2/2016 01:16   \n",
              "1              2      True  Caller 2403    Opened by  8  29/2/2016 01:16   \n",
              "2              3      True  Caller 2403    Opened by  8  29/2/2016 01:16   \n",
              "3              4      True  Caller 2403    Opened by  8  29/2/2016 01:16   \n",
              "4              0      True  Caller 2403  Opened by  397  29/2/2016 04:40   \n",
              "\n",
              "   sys_created_by   sys_created_at  sys_updated_by   sys_updated_at  \\\n",
              "0    Created by 6  29/2/2016 01:23   Updated by 21  29/2/2016 01:23   \n",
              "1    Created by 6  29/2/2016 01:23  Updated by 642  29/2/2016 08:53   \n",
              "2    Created by 6  29/2/2016 01:23  Updated by 804  29/2/2016 11:29   \n",
              "3    Created by 6  29/2/2016 01:23  Updated by 908   5/3/2016 12:00   \n",
              "4  Created by 171  29/2/2016 04:57  Updated by 746  29/2/2016 04:57   \n",
              "\n",
              "  contact_type      location     category      subcategory    u_symptom  \\\n",
              "0        Phone  Location 143  Category 55  Subcategory 170   Symptom 72   \n",
              "1        Phone  Location 143  Category 55  Subcategory 170   Symptom 72   \n",
              "2        Phone  Location 143  Category 55  Subcategory 170   Symptom 72   \n",
              "3        Phone  Location 143  Category 55  Subcategory 170   Symptom 72   \n",
              "4        Phone  Location 165  Category 40  Subcategory 215  Symptom 471   \n",
              "\n",
              "  cmdb_ci      impact     urgency      priority assignment_group  assigned_to  \\\n",
              "0       ?  2 - Medium  2 - Medium  3 - Moderate         Group 56            ?   \n",
              "1       ?  2 - Medium  2 - Medium  3 - Moderate         Group 56            ?   \n",
              "2       ?  2 - Medium  2 - Medium  3 - Moderate         Group 56            ?   \n",
              "3       ?  2 - Medium  2 - Medium  3 - Moderate         Group 56            ?   \n",
              "4       ?  2 - Medium  2 - Medium  3 - Moderate         Group 70  Resolver 89   \n",
              "\n",
              "   knowledge  u_priority_confirmation         notify problem_id rfc vendor  \\\n",
              "0       True                    False  Do Not Notify          ?   ?      ?   \n",
              "1       True                    False  Do Not Notify          ?   ?      ?   \n",
              "2       True                    False  Do Not Notify          ?   ?      ?   \n",
              "3       True                    False  Do Not Notify          ?   ?      ?   \n",
              "4       True                    False  Do Not Notify          ?   ?      ?   \n",
              "\n",
              "  caused_by closed_code      resolved_by      resolved_at       closed_at  \n",
              "0         ?      code 5  Resolved by 149  29/2/2016 11:29  5/3/2016 12:00  \n",
              "1         ?      code 5  Resolved by 149  29/2/2016 11:29  5/3/2016 12:00  \n",
              "2         ?      code 5  Resolved by 149  29/2/2016 11:29  5/3/2016 12:00  \n",
              "3         ?      code 5  Resolved by 149  29/2/2016 11:29  5/3/2016 12:00  \n",
              "4         ?      code 5   Resolved by 81   1/3/2016 09:52  6/3/2016 10:00  "
            ]
          },
          "metadata": {
            "tags": []
          },
          "execution_count": 3
        }
      ]
    },
    {
      "cell_type": "code",
      "metadata": {
        "id": "uAif-w8y2Meu"
      },
      "source": [
        "df = data[data['incident_state'] == 'Closed']"
      ],
      "execution_count": 4,
      "outputs": []
    },
    {
      "cell_type": "code",
      "metadata": {
        "id": "V-aXUyIy2Me9",
        "outputId": "1ecd8eef-d8e7-4e31-e7fb-b183e2c1de19",
        "colab": {
          "base_uri": "https://localhost:8080/"
        }
      },
      "source": [
        "df.shape"
      ],
      "execution_count": 5,
      "outputs": [
        {
          "output_type": "execute_result",
          "data": {
            "text/plain": [
              "(24985, 36)"
            ]
          },
          "metadata": {
            "tags": []
          },
          "execution_count": 5
        }
      ]
    },
    {
      "cell_type": "code",
      "metadata": {
        "id": "gCl7ZfVe2MfM",
        "outputId": "8a675278-0273-4f56-9d55-abe8100a4628",
        "colab": {
          "base_uri": "https://localhost:8080/",
          "height": 301
        }
      },
      "source": [
        "df = df.drop(['incident_state','closed_code','resolved_by', 'number','caller_id', 'assignment_group', 'assigned_to', 'opened_by',\n",
        "              'notify','sys_created_by', 'active','impact','urgency', 'cmdb_ci','problem_id', 'rfc','vendor','caused_by',\n",
        "              'sys_updated_by'], axis = 1)\n",
        "df.head()"
      ],
      "execution_count": 6,
      "outputs": [
        {
          "output_type": "execute_result",
          "data": {
            "text/html": [
              "<div>\n",
              "<style scoped>\n",
              "    .dataframe tbody tr th:only-of-type {\n",
              "        vertical-align: middle;\n",
              "    }\n",
              "\n",
              "    .dataframe tbody tr th {\n",
              "        vertical-align: top;\n",
              "    }\n",
              "\n",
              "    .dataframe thead th {\n",
              "        text-align: right;\n",
              "    }\n",
              "</style>\n",
              "<table border=\"1\" class=\"dataframe\">\n",
              "  <thead>\n",
              "    <tr style=\"text-align: right;\">\n",
              "      <th></th>\n",
              "      <th>reassignment_count</th>\n",
              "      <th>reopen_count</th>\n",
              "      <th>sys_mod_count</th>\n",
              "      <th>made_sla</th>\n",
              "      <th>opened_at</th>\n",
              "      <th>sys_created_at</th>\n",
              "      <th>sys_updated_at</th>\n",
              "      <th>contact_type</th>\n",
              "      <th>location</th>\n",
              "      <th>category</th>\n",
              "      <th>subcategory</th>\n",
              "      <th>u_symptom</th>\n",
              "      <th>priority</th>\n",
              "      <th>knowledge</th>\n",
              "      <th>u_priority_confirmation</th>\n",
              "      <th>resolved_at</th>\n",
              "      <th>closed_at</th>\n",
              "    </tr>\n",
              "  </thead>\n",
              "  <tbody>\n",
              "    <tr>\n",
              "      <th>3</th>\n",
              "      <td>0</td>\n",
              "      <td>0</td>\n",
              "      <td>4</td>\n",
              "      <td>True</td>\n",
              "      <td>29/2/2016 01:16</td>\n",
              "      <td>29/2/2016 01:23</td>\n",
              "      <td>5/3/2016 12:00</td>\n",
              "      <td>Phone</td>\n",
              "      <td>Location 143</td>\n",
              "      <td>Category 55</td>\n",
              "      <td>Subcategory 170</td>\n",
              "      <td>Symptom 72</td>\n",
              "      <td>3 - Moderate</td>\n",
              "      <td>True</td>\n",
              "      <td>False</td>\n",
              "      <td>29/2/2016 11:29</td>\n",
              "      <td>5/3/2016 12:00</td>\n",
              "    </tr>\n",
              "    <tr>\n",
              "      <th>12</th>\n",
              "      <td>1</td>\n",
              "      <td>0</td>\n",
              "      <td>8</td>\n",
              "      <td>True</td>\n",
              "      <td>29/2/2016 04:40</td>\n",
              "      <td>29/2/2016 04:57</td>\n",
              "      <td>6/3/2016 10:00</td>\n",
              "      <td>Phone</td>\n",
              "      <td>Location 165</td>\n",
              "      <td>Category 40</td>\n",
              "      <td>Subcategory 215</td>\n",
              "      <td>Symptom 471</td>\n",
              "      <td>3 - Moderate</td>\n",
              "      <td>True</td>\n",
              "      <td>False</td>\n",
              "      <td>1/3/2016 09:52</td>\n",
              "      <td>6/3/2016 10:00</td>\n",
              "    </tr>\n",
              "    <tr>\n",
              "      <th>19</th>\n",
              "      <td>0</td>\n",
              "      <td>0</td>\n",
              "      <td>6</td>\n",
              "      <td>True</td>\n",
              "      <td>29/2/2016 06:10</td>\n",
              "      <td>?</td>\n",
              "      <td>6/3/2016 03:00</td>\n",
              "      <td>Phone</td>\n",
              "      <td>Location 204</td>\n",
              "      <td>Category 20</td>\n",
              "      <td>Subcategory 125</td>\n",
              "      <td>Symptom 471</td>\n",
              "      <td>3 - Moderate</td>\n",
              "      <td>True</td>\n",
              "      <td>False</td>\n",
              "      <td>1/3/2016 02:55</td>\n",
              "      <td>6/3/2016 03:00</td>\n",
              "    </tr>\n",
              "    <tr>\n",
              "      <th>23</th>\n",
              "      <td>0</td>\n",
              "      <td>0</td>\n",
              "      <td>3</td>\n",
              "      <td>True</td>\n",
              "      <td>29/2/2016 06:38</td>\n",
              "      <td>29/2/2016 06:42</td>\n",
              "      <td>7/3/2016 13:00</td>\n",
              "      <td>Phone</td>\n",
              "      <td>Location 204</td>\n",
              "      <td>Category 9</td>\n",
              "      <td>Subcategory 97</td>\n",
              "      <td>Symptom 450</td>\n",
              "      <td>3 - Moderate</td>\n",
              "      <td>True</td>\n",
              "      <td>False</td>\n",
              "      <td>2/3/2016 12:06</td>\n",
              "      <td>7/3/2016 13:00</td>\n",
              "    </tr>\n",
              "    <tr>\n",
              "      <th>31</th>\n",
              "      <td>1</td>\n",
              "      <td>0</td>\n",
              "      <td>7</td>\n",
              "      <td>False</td>\n",
              "      <td>29/2/2016 06:58</td>\n",
              "      <td>29/2/2016 07:26</td>\n",
              "      <td>5/3/2016 16:00</td>\n",
              "      <td>Phone</td>\n",
              "      <td>Location 93</td>\n",
              "      <td>Category 53</td>\n",
              "      <td>Subcategory 168</td>\n",
              "      <td>Symptom 232</td>\n",
              "      <td>2 - High</td>\n",
              "      <td>True</td>\n",
              "      <td>False</td>\n",
              "      <td>29/2/2016 15:51</td>\n",
              "      <td>5/3/2016 16:00</td>\n",
              "    </tr>\n",
              "  </tbody>\n",
              "</table>\n",
              "</div>"
            ],
            "text/plain": [
              "    reassignment_count  reopen_count  sys_mod_count  made_sla  \\\n",
              "3                    0             0              4      True   \n",
              "12                   1             0              8      True   \n",
              "19                   0             0              6      True   \n",
              "23                   0             0              3      True   \n",
              "31                   1             0              7     False   \n",
              "\n",
              "          opened_at   sys_created_at  sys_updated_at contact_type  \\\n",
              "3   29/2/2016 01:16  29/2/2016 01:23  5/3/2016 12:00        Phone   \n",
              "12  29/2/2016 04:40  29/2/2016 04:57  6/3/2016 10:00        Phone   \n",
              "19  29/2/2016 06:10                ?  6/3/2016 03:00        Phone   \n",
              "23  29/2/2016 06:38  29/2/2016 06:42  7/3/2016 13:00        Phone   \n",
              "31  29/2/2016 06:58  29/2/2016 07:26  5/3/2016 16:00        Phone   \n",
              "\n",
              "        location     category      subcategory    u_symptom      priority  \\\n",
              "3   Location 143  Category 55  Subcategory 170   Symptom 72  3 - Moderate   \n",
              "12  Location 165  Category 40  Subcategory 215  Symptom 471  3 - Moderate   \n",
              "19  Location 204  Category 20  Subcategory 125  Symptom 471  3 - Moderate   \n",
              "23  Location 204   Category 9   Subcategory 97  Symptom 450  3 - Moderate   \n",
              "31   Location 93  Category 53  Subcategory 168  Symptom 232      2 - High   \n",
              "\n",
              "    knowledge  u_priority_confirmation      resolved_at       closed_at  \n",
              "3        True                    False  29/2/2016 11:29  5/3/2016 12:00  \n",
              "12       True                    False   1/3/2016 09:52  6/3/2016 10:00  \n",
              "19       True                    False   1/3/2016 02:55  6/3/2016 03:00  \n",
              "23       True                    False   2/3/2016 12:06  7/3/2016 13:00  \n",
              "31       True                    False  29/2/2016 15:51  5/3/2016 16:00  "
            ]
          },
          "metadata": {
            "tags": []
          },
          "execution_count": 6
        }
      ]
    },
    {
      "cell_type": "code",
      "metadata": {
        "id": "hsfe-7HB2Mfd",
        "outputId": "e98be170-c765-4c67-e7d4-aa874681d27c",
        "colab": {
          "base_uri": "https://localhost:8080/"
        }
      },
      "source": [
        "df = df.replace('?', np.NaN)\n",
        "df.isnull().sum()"
      ],
      "execution_count": 7,
      "outputs": [
        {
          "output_type": "execute_result",
          "data": {
            "text/plain": [
              "reassignment_count             0\n",
              "reopen_count                   0\n",
              "sys_mod_count                  0\n",
              "made_sla                       0\n",
              "opened_at                      0\n",
              "sys_created_at             11519\n",
              "sys_updated_at                 0\n",
              "contact_type                   0\n",
              "location                       8\n",
              "category                       8\n",
              "subcategory                   10\n",
              "u_symptom                   5856\n",
              "priority                       0\n",
              "knowledge                      0\n",
              "u_priority_confirmation        0\n",
              "resolved_at                 1558\n",
              "closed_at                      0\n",
              "dtype: int64"
            ]
          },
          "metadata": {
            "tags": []
          },
          "execution_count": 7
        }
      ]
    },
    {
      "cell_type": "code",
      "metadata": {
        "id": "Ai-smF582Mfy",
        "outputId": "dc8a7e72-9319-47e0-d68c-7fe571efb52e",
        "colab": {
          "base_uri": "https://localhost:8080/"
        }
      },
      "source": [
        "df.info()"
      ],
      "execution_count": 8,
      "outputs": [
        {
          "output_type": "stream",
          "text": [
            "<class 'pandas.core.frame.DataFrame'>\n",
            "Int64Index: 24985 entries, 3 to 141711\n",
            "Data columns (total 17 columns):\n",
            " #   Column                   Non-Null Count  Dtype \n",
            "---  ------                   --------------  ----- \n",
            " 0   reassignment_count       24985 non-null  int64 \n",
            " 1   reopen_count             24985 non-null  int64 \n",
            " 2   sys_mod_count            24985 non-null  int64 \n",
            " 3   made_sla                 24985 non-null  bool  \n",
            " 4   opened_at                24985 non-null  object\n",
            " 5   sys_created_at           13466 non-null  object\n",
            " 6   sys_updated_at           24985 non-null  object\n",
            " 7   contact_type             24985 non-null  object\n",
            " 8   location                 24977 non-null  object\n",
            " 9   category                 24977 non-null  object\n",
            " 10  subcategory              24975 non-null  object\n",
            " 11  u_symptom                19129 non-null  object\n",
            " 12  priority                 24985 non-null  object\n",
            " 13  knowledge                24985 non-null  bool  \n",
            " 14  u_priority_confirmation  24985 non-null  bool  \n",
            " 15  resolved_at              23427 non-null  object\n",
            " 16  closed_at                24985 non-null  object\n",
            "dtypes: bool(3), int64(3), object(11)\n",
            "memory usage: 2.9+ MB\n"
          ],
          "name": "stdout"
        }
      ]
    },
    {
      "cell_type": "code",
      "metadata": {
        "id": "U5Bp53ZO2MgE"
      },
      "source": [
        "for i in ['u_symptom','subcategory','category','location']:\n",
        "    df[i]=df[i].fillna(df[i].mode()[0])"
      ],
      "execution_count": 9,
      "outputs": []
    },
    {
      "cell_type": "code",
      "metadata": {
        "id": "IbYBV6-62MgP"
      },
      "source": [
        "df['resolved_at'].fillna(method='ffill', inplace=True)"
      ],
      "execution_count": 10,
      "outputs": []
    },
    {
      "cell_type": "code",
      "metadata": {
        "id": "EyJHdsoL2Mgb"
      },
      "source": [
        "df.loc[df.sys_created_at.isnull(),'sys_created_at'] = df.loc[df.sys_created_at.isnull(),'opened_at']"
      ],
      "execution_count": 11,
      "outputs": []
    },
    {
      "cell_type": "code",
      "metadata": {
        "id": "to7zjC2Y2Mgo"
      },
      "source": [
        "dates = ['sys_created_at', 'opened_at', 'resolved_at', 'closed_at', 'sys_updated_at']\n",
        "\n",
        "for feat in dates:\n",
        "    df[feat] = pd.to_datetime(df[feat], format='%d/%m/%Y %H:%M')"
      ],
      "execution_count": 12,
      "outputs": []
    },
    {
      "cell_type": "code",
      "metadata": {
        "id": "DdP4bf1y2Mgy",
        "outputId": "a57615a4-548e-4450-bd9b-3db03d6e2508",
        "colab": {
          "base_uri": "https://localhost:8080/"
        }
      },
      "source": [
        "df.info()"
      ],
      "execution_count": 13,
      "outputs": [
        {
          "output_type": "stream",
          "text": [
            "<class 'pandas.core.frame.DataFrame'>\n",
            "Int64Index: 24985 entries, 3 to 141711\n",
            "Data columns (total 17 columns):\n",
            " #   Column                   Non-Null Count  Dtype         \n",
            "---  ------                   --------------  -----         \n",
            " 0   reassignment_count       24985 non-null  int64         \n",
            " 1   reopen_count             24985 non-null  int64         \n",
            " 2   sys_mod_count            24985 non-null  int64         \n",
            " 3   made_sla                 24985 non-null  bool          \n",
            " 4   opened_at                24985 non-null  datetime64[ns]\n",
            " 5   sys_created_at           24985 non-null  datetime64[ns]\n",
            " 6   sys_updated_at           24985 non-null  datetime64[ns]\n",
            " 7   contact_type             24985 non-null  object        \n",
            " 8   location                 24985 non-null  object        \n",
            " 9   category                 24985 non-null  object        \n",
            " 10  subcategory              24985 non-null  object        \n",
            " 11  u_symptom                24985 non-null  object        \n",
            " 12  priority                 24985 non-null  object        \n",
            " 13  knowledge                24985 non-null  bool          \n",
            " 14  u_priority_confirmation  24985 non-null  bool          \n",
            " 15  resolved_at              24985 non-null  datetime64[ns]\n",
            " 16  closed_at                24985 non-null  datetime64[ns]\n",
            "dtypes: bool(3), datetime64[ns](5), int64(3), object(6)\n",
            "memory usage: 2.9+ MB\n"
          ],
          "name": "stdout"
        }
      ]
    },
    {
      "cell_type": "code",
      "metadata": {
        "id": "s879Mkk12MhA",
        "outputId": "a730b91e-13fc-4b29-d29e-aff016ab3a16",
        "colab": {
          "base_uri": "https://localhost:8080/"
        }
      },
      "source": [
        "feat_num = df.select_dtypes(np.number).columns.tolist()\n",
        "print(f\"Numerical columns : {len(feat_num)}\\n{feat_num}\\n\")\n",
        "\n",
        "# categorical and boolean features\n",
        "feat_cat = df.select_dtypes(['object', 'bool']).columns.tolist()\n",
        "print(f\"Categorical columns : {len(feat_cat)}\\n{feat_cat}\\n\")      \n",
        "\n",
        "# dates features\n",
        "feat_dates = df.select_dtypes(['datetime']).columns.tolist()\n",
        "print(f\"Datetime columns : {len(feat_dates)}\\n{feat_dates}\\n\") "
      ],
      "execution_count": 14,
      "outputs": [
        {
          "output_type": "stream",
          "text": [
            "Numerical columns : 3\n",
            "['reassignment_count', 'reopen_count', 'sys_mod_count']\n",
            "\n",
            "Categorical columns : 9\n",
            "['made_sla', 'contact_type', 'location', 'category', 'subcategory', 'u_symptom', 'priority', 'knowledge', 'u_priority_confirmation']\n",
            "\n",
            "Datetime columns : 5\n",
            "['opened_at', 'sys_created_at', 'sys_updated_at', 'resolved_at', 'closed_at']\n",
            "\n"
          ],
          "name": "stdout"
        }
      ]
    },
    {
      "cell_type": "code",
      "metadata": {
        "id": "oVutPAH72MhN",
        "outputId": "ca1d2e9d-ec24-4212-cb4d-a5a1e76956f6",
        "colab": {
          "base_uri": "https://localhost:8080/",
          "height": 384
        }
      },
      "source": [
        "df.head()"
      ],
      "execution_count": 15,
      "outputs": [
        {
          "output_type": "execute_result",
          "data": {
            "text/html": [
              "<div>\n",
              "<style scoped>\n",
              "    .dataframe tbody tr th:only-of-type {\n",
              "        vertical-align: middle;\n",
              "    }\n",
              "\n",
              "    .dataframe tbody tr th {\n",
              "        vertical-align: top;\n",
              "    }\n",
              "\n",
              "    .dataframe thead th {\n",
              "        text-align: right;\n",
              "    }\n",
              "</style>\n",
              "<table border=\"1\" class=\"dataframe\">\n",
              "  <thead>\n",
              "    <tr style=\"text-align: right;\">\n",
              "      <th></th>\n",
              "      <th>reassignment_count</th>\n",
              "      <th>reopen_count</th>\n",
              "      <th>sys_mod_count</th>\n",
              "      <th>made_sla</th>\n",
              "      <th>opened_at</th>\n",
              "      <th>sys_created_at</th>\n",
              "      <th>sys_updated_at</th>\n",
              "      <th>contact_type</th>\n",
              "      <th>location</th>\n",
              "      <th>category</th>\n",
              "      <th>subcategory</th>\n",
              "      <th>u_symptom</th>\n",
              "      <th>priority</th>\n",
              "      <th>knowledge</th>\n",
              "      <th>u_priority_confirmation</th>\n",
              "      <th>resolved_at</th>\n",
              "      <th>closed_at</th>\n",
              "    </tr>\n",
              "  </thead>\n",
              "  <tbody>\n",
              "    <tr>\n",
              "      <th>3</th>\n",
              "      <td>0</td>\n",
              "      <td>0</td>\n",
              "      <td>4</td>\n",
              "      <td>True</td>\n",
              "      <td>2016-02-29 01:16:00</td>\n",
              "      <td>2016-02-29 01:23:00</td>\n",
              "      <td>2016-03-05 12:00:00</td>\n",
              "      <td>Phone</td>\n",
              "      <td>Location 143</td>\n",
              "      <td>Category 55</td>\n",
              "      <td>Subcategory 170</td>\n",
              "      <td>Symptom 72</td>\n",
              "      <td>3 - Moderate</td>\n",
              "      <td>True</td>\n",
              "      <td>False</td>\n",
              "      <td>2016-02-29 11:29:00</td>\n",
              "      <td>2016-03-05 12:00:00</td>\n",
              "    </tr>\n",
              "    <tr>\n",
              "      <th>12</th>\n",
              "      <td>1</td>\n",
              "      <td>0</td>\n",
              "      <td>8</td>\n",
              "      <td>True</td>\n",
              "      <td>2016-02-29 04:40:00</td>\n",
              "      <td>2016-02-29 04:57:00</td>\n",
              "      <td>2016-03-06 10:00:00</td>\n",
              "      <td>Phone</td>\n",
              "      <td>Location 165</td>\n",
              "      <td>Category 40</td>\n",
              "      <td>Subcategory 215</td>\n",
              "      <td>Symptom 471</td>\n",
              "      <td>3 - Moderate</td>\n",
              "      <td>True</td>\n",
              "      <td>False</td>\n",
              "      <td>2016-03-01 09:52:00</td>\n",
              "      <td>2016-03-06 10:00:00</td>\n",
              "    </tr>\n",
              "    <tr>\n",
              "      <th>19</th>\n",
              "      <td>0</td>\n",
              "      <td>0</td>\n",
              "      <td>6</td>\n",
              "      <td>True</td>\n",
              "      <td>2016-02-29 06:10:00</td>\n",
              "      <td>2016-02-29 06:10:00</td>\n",
              "      <td>2016-03-06 03:00:00</td>\n",
              "      <td>Phone</td>\n",
              "      <td>Location 204</td>\n",
              "      <td>Category 20</td>\n",
              "      <td>Subcategory 125</td>\n",
              "      <td>Symptom 471</td>\n",
              "      <td>3 - Moderate</td>\n",
              "      <td>True</td>\n",
              "      <td>False</td>\n",
              "      <td>2016-03-01 02:55:00</td>\n",
              "      <td>2016-03-06 03:00:00</td>\n",
              "    </tr>\n",
              "    <tr>\n",
              "      <th>23</th>\n",
              "      <td>0</td>\n",
              "      <td>0</td>\n",
              "      <td>3</td>\n",
              "      <td>True</td>\n",
              "      <td>2016-02-29 06:38:00</td>\n",
              "      <td>2016-02-29 06:42:00</td>\n",
              "      <td>2016-03-07 13:00:00</td>\n",
              "      <td>Phone</td>\n",
              "      <td>Location 204</td>\n",
              "      <td>Category 9</td>\n",
              "      <td>Subcategory 97</td>\n",
              "      <td>Symptom 450</td>\n",
              "      <td>3 - Moderate</td>\n",
              "      <td>True</td>\n",
              "      <td>False</td>\n",
              "      <td>2016-03-02 12:06:00</td>\n",
              "      <td>2016-03-07 13:00:00</td>\n",
              "    </tr>\n",
              "    <tr>\n",
              "      <th>31</th>\n",
              "      <td>1</td>\n",
              "      <td>0</td>\n",
              "      <td>7</td>\n",
              "      <td>False</td>\n",
              "      <td>2016-02-29 06:58:00</td>\n",
              "      <td>2016-02-29 07:26:00</td>\n",
              "      <td>2016-03-05 16:00:00</td>\n",
              "      <td>Phone</td>\n",
              "      <td>Location 93</td>\n",
              "      <td>Category 53</td>\n",
              "      <td>Subcategory 168</td>\n",
              "      <td>Symptom 232</td>\n",
              "      <td>2 - High</td>\n",
              "      <td>True</td>\n",
              "      <td>False</td>\n",
              "      <td>2016-02-29 15:51:00</td>\n",
              "      <td>2016-03-05 16:00:00</td>\n",
              "    </tr>\n",
              "  </tbody>\n",
              "</table>\n",
              "</div>"
            ],
            "text/plain": [
              "    reassignment_count  reopen_count  sys_mod_count  made_sla  \\\n",
              "3                    0             0              4      True   \n",
              "12                   1             0              8      True   \n",
              "19                   0             0              6      True   \n",
              "23                   0             0              3      True   \n",
              "31                   1             0              7     False   \n",
              "\n",
              "             opened_at      sys_created_at      sys_updated_at contact_type  \\\n",
              "3  2016-02-29 01:16:00 2016-02-29 01:23:00 2016-03-05 12:00:00        Phone   \n",
              "12 2016-02-29 04:40:00 2016-02-29 04:57:00 2016-03-06 10:00:00        Phone   \n",
              "19 2016-02-29 06:10:00 2016-02-29 06:10:00 2016-03-06 03:00:00        Phone   \n",
              "23 2016-02-29 06:38:00 2016-02-29 06:42:00 2016-03-07 13:00:00        Phone   \n",
              "31 2016-02-29 06:58:00 2016-02-29 07:26:00 2016-03-05 16:00:00        Phone   \n",
              "\n",
              "        location     category      subcategory    u_symptom      priority  \\\n",
              "3   Location 143  Category 55  Subcategory 170   Symptom 72  3 - Moderate   \n",
              "12  Location 165  Category 40  Subcategory 215  Symptom 471  3 - Moderate   \n",
              "19  Location 204  Category 20  Subcategory 125  Symptom 471  3 - Moderate   \n",
              "23  Location 204   Category 9   Subcategory 97  Symptom 450  3 - Moderate   \n",
              "31   Location 93  Category 53  Subcategory 168  Symptom 232      2 - High   \n",
              "\n",
              "    knowledge  u_priority_confirmation         resolved_at           closed_at  \n",
              "3        True                    False 2016-02-29 11:29:00 2016-03-05 12:00:00  \n",
              "12       True                    False 2016-03-01 09:52:00 2016-03-06 10:00:00  \n",
              "19       True                    False 2016-03-01 02:55:00 2016-03-06 03:00:00  \n",
              "23       True                    False 2016-03-02 12:06:00 2016-03-07 13:00:00  \n",
              "31       True                    False 2016-02-29 15:51:00 2016-03-05 16:00:00  "
            ]
          },
          "metadata": {
            "tags": []
          },
          "execution_count": 15
        }
      ]
    },
    {
      "cell_type": "code",
      "metadata": {
        "id": "uHu8niKd2Mhe"
      },
      "source": [
        "feat_cat = df.select_dtypes(['object','bool'])\n",
        "feat_num = df.select_dtypes(np.number)\n"
      ],
      "execution_count": 16,
      "outputs": []
    },
    {
      "cell_type": "code",
      "metadata": {
        "id": "txRPUFJQ2Mhp"
      },
      "source": [
        "from sklearn.preprocessing import LabelEncoder\n",
        "le = LabelEncoder()\n",
        "feat_cat_encoded= feat_cat.apply(le.fit_transform)"
      ],
      "execution_count": 17,
      "outputs": []
    },
    {
      "cell_type": "code",
      "metadata": {
        "id": "8G1TFTQh2Mhx",
        "outputId": "4fc8dd87-5381-4528-981d-bceff16a210b",
        "colab": {
          "base_uri": "https://localhost:8080/",
          "height": 367
        }
      },
      "source": [
        "df = pd.concat([feat_cat_encoded, feat_num], axis=1)\n",
        "df.head(10)"
      ],
      "execution_count": 18,
      "outputs": [
        {
          "output_type": "execute_result",
          "data": {
            "text/html": [
              "<div>\n",
              "<style scoped>\n",
              "    .dataframe tbody tr th:only-of-type {\n",
              "        vertical-align: middle;\n",
              "    }\n",
              "\n",
              "    .dataframe tbody tr th {\n",
              "        vertical-align: top;\n",
              "    }\n",
              "\n",
              "    .dataframe thead th {\n",
              "        text-align: right;\n",
              "    }\n",
              "</style>\n",
              "<table border=\"1\" class=\"dataframe\">\n",
              "  <thead>\n",
              "    <tr style=\"text-align: right;\">\n",
              "      <th></th>\n",
              "      <th>made_sla</th>\n",
              "      <th>contact_type</th>\n",
              "      <th>location</th>\n",
              "      <th>category</th>\n",
              "      <th>subcategory</th>\n",
              "      <th>u_symptom</th>\n",
              "      <th>priority</th>\n",
              "      <th>knowledge</th>\n",
              "      <th>u_priority_confirmation</th>\n",
              "      <th>reassignment_count</th>\n",
              "      <th>reopen_count</th>\n",
              "      <th>sys_mod_count</th>\n",
              "    </tr>\n",
              "  </thead>\n",
              "  <tbody>\n",
              "    <tr>\n",
              "      <th>3</th>\n",
              "      <td>1</td>\n",
              "      <td>3</td>\n",
              "      <td>43</td>\n",
              "      <td>41</td>\n",
              "      <td>66</td>\n",
              "      <td>380</td>\n",
              "      <td>2</td>\n",
              "      <td>1</td>\n",
              "      <td>0</td>\n",
              "      <td>0</td>\n",
              "      <td>0</td>\n",
              "      <td>4</td>\n",
              "    </tr>\n",
              "    <tr>\n",
              "      <th>12</th>\n",
              "      <td>1</td>\n",
              "      <td>3</td>\n",
              "      <td>62</td>\n",
              "      <td>27</td>\n",
              "      <td>108</td>\n",
              "      <td>253</td>\n",
              "      <td>2</td>\n",
              "      <td>1</td>\n",
              "      <td>0</td>\n",
              "      <td>1</td>\n",
              "      <td>0</td>\n",
              "      <td>8</td>\n",
              "    </tr>\n",
              "    <tr>\n",
              "      <th>19</th>\n",
              "      <td>1</td>\n",
              "      <td>3</td>\n",
              "      <td>104</td>\n",
              "      <td>8</td>\n",
              "      <td>24</td>\n",
              "      <td>253</td>\n",
              "      <td>2</td>\n",
              "      <td>1</td>\n",
              "      <td>0</td>\n",
              "      <td>0</td>\n",
              "      <td>0</td>\n",
              "      <td>6</td>\n",
              "    </tr>\n",
              "    <tr>\n",
              "      <th>23</th>\n",
              "      <td>1</td>\n",
              "      <td>3</td>\n",
              "      <td>104</td>\n",
              "      <td>52</td>\n",
              "      <td>243</td>\n",
              "      <td>234</td>\n",
              "      <td>2</td>\n",
              "      <td>1</td>\n",
              "      <td>0</td>\n",
              "      <td>0</td>\n",
              "      <td>0</td>\n",
              "      <td>3</td>\n",
              "    </tr>\n",
              "    <tr>\n",
              "      <th>31</th>\n",
              "      <td>0</td>\n",
              "      <td>3</td>\n",
              "      <td>217</td>\n",
              "      <td>39</td>\n",
              "      <td>63</td>\n",
              "      <td>73</td>\n",
              "      <td>1</td>\n",
              "      <td>1</td>\n",
              "      <td>0</td>\n",
              "      <td>1</td>\n",
              "      <td>0</td>\n",
              "      <td>7</td>\n",
              "    </tr>\n",
              "    <tr>\n",
              "      <th>39</th>\n",
              "      <td>1</td>\n",
              "      <td>3</td>\n",
              "      <td>217</td>\n",
              "      <td>8</td>\n",
              "      <td>24</td>\n",
              "      <td>253</td>\n",
              "      <td>2</td>\n",
              "      <td>1</td>\n",
              "      <td>0</td>\n",
              "      <td>1</td>\n",
              "      <td>0</td>\n",
              "      <td>7</td>\n",
              "    </tr>\n",
              "    <tr>\n",
              "      <th>48</th>\n",
              "      <td>1</td>\n",
              "      <td>3</td>\n",
              "      <td>43</td>\n",
              "      <td>39</td>\n",
              "      <td>63</td>\n",
              "      <td>344</td>\n",
              "      <td>2</td>\n",
              "      <td>1</td>\n",
              "      <td>0</td>\n",
              "      <td>1</td>\n",
              "      <td>0</td>\n",
              "      <td>8</td>\n",
              "    </tr>\n",
              "    <tr>\n",
              "      <th>61</th>\n",
              "      <td>1</td>\n",
              "      <td>3</td>\n",
              "      <td>7</td>\n",
              "      <td>31</td>\n",
              "      <td>240</td>\n",
              "      <td>146</td>\n",
              "      <td>2</td>\n",
              "      <td>1</td>\n",
              "      <td>0</td>\n",
              "      <td>6</td>\n",
              "      <td>0</td>\n",
              "      <td>13</td>\n",
              "    </tr>\n",
              "    <tr>\n",
              "      <th>65</th>\n",
              "      <td>1</td>\n",
              "      <td>3</td>\n",
              "      <td>59</td>\n",
              "      <td>41</td>\n",
              "      <td>80</td>\n",
              "      <td>263</td>\n",
              "      <td>2</td>\n",
              "      <td>1</td>\n",
              "      <td>0</td>\n",
              "      <td>1</td>\n",
              "      <td>0</td>\n",
              "      <td>3</td>\n",
              "    </tr>\n",
              "    <tr>\n",
              "      <th>76</th>\n",
              "      <td>1</td>\n",
              "      <td>3</td>\n",
              "      <td>43</td>\n",
              "      <td>52</td>\n",
              "      <td>11</td>\n",
              "      <td>252</td>\n",
              "      <td>2</td>\n",
              "      <td>1</td>\n",
              "      <td>0</td>\n",
              "      <td>1</td>\n",
              "      <td>0</td>\n",
              "      <td>10</td>\n",
              "    </tr>\n",
              "  </tbody>\n",
              "</table>\n",
              "</div>"
            ],
            "text/plain": [
              "    made_sla  contact_type  location  category  subcategory  u_symptom  \\\n",
              "3          1             3        43        41           66        380   \n",
              "12         1             3        62        27          108        253   \n",
              "19         1             3       104         8           24        253   \n",
              "23         1             3       104        52          243        234   \n",
              "31         0             3       217        39           63         73   \n",
              "39         1             3       217         8           24        253   \n",
              "48         1             3        43        39           63        344   \n",
              "61         1             3         7        31          240        146   \n",
              "65         1             3        59        41           80        263   \n",
              "76         1             3        43        52           11        252   \n",
              "\n",
              "    priority  knowledge  u_priority_confirmation  reassignment_count  \\\n",
              "3          2          1                        0                   0   \n",
              "12         2          1                        0                   1   \n",
              "19         2          1                        0                   0   \n",
              "23         2          1                        0                   0   \n",
              "31         1          1                        0                   1   \n",
              "39         2          1                        0                   1   \n",
              "48         2          1                        0                   1   \n",
              "61         2          1                        0                   6   \n",
              "65         2          1                        0                   1   \n",
              "76         2          1                        0                   1   \n",
              "\n",
              "    reopen_count  sys_mod_count  \n",
              "3              0              4  \n",
              "12             0              8  \n",
              "19             0              6  \n",
              "23             0              3  \n",
              "31             0              7  \n",
              "39             0              7  \n",
              "48             0              8  \n",
              "61             0             13  \n",
              "65             0              3  \n",
              "76             0             10  "
            ]
          },
          "metadata": {
            "tags": []
          },
          "execution_count": 18
        }
      ]
    },
    {
      "cell_type": "code",
      "metadata": {
        "id": "zA-QcG_B24LS"
      },
      "source": [
        ""
      ],
      "execution_count": null,
      "outputs": []
    },
    {
      "cell_type": "code",
      "metadata": {
        "id": "JtlYBQDz2Mh7"
      },
      "source": [
        ""
      ],
      "execution_count": 18,
      "outputs": []
    },
    {
      "cell_type": "code",
      "metadata": {
        "id": "fYkcAY6P2MiJ",
        "outputId": "e6838518-c690-41a7-9a52-9a3d1a8ca852",
        "colab": {
          "base_uri": "https://localhost:8080/",
          "height": 427
        }
      },
      "source": [
        "df.describe().T"
      ],
      "execution_count": 19,
      "outputs": [
        {
          "output_type": "execute_result",
          "data": {
            "text/html": [
              "<div>\n",
              "<style scoped>\n",
              "    .dataframe tbody tr th:only-of-type {\n",
              "        vertical-align: middle;\n",
              "    }\n",
              "\n",
              "    .dataframe tbody tr th {\n",
              "        vertical-align: top;\n",
              "    }\n",
              "\n",
              "    .dataframe thead th {\n",
              "        text-align: right;\n",
              "    }\n",
              "</style>\n",
              "<table border=\"1\" class=\"dataframe\">\n",
              "  <thead>\n",
              "    <tr style=\"text-align: right;\">\n",
              "      <th></th>\n",
              "      <th>count</th>\n",
              "      <th>mean</th>\n",
              "      <th>std</th>\n",
              "      <th>min</th>\n",
              "      <th>25%</th>\n",
              "      <th>50%</th>\n",
              "      <th>75%</th>\n",
              "      <th>max</th>\n",
              "    </tr>\n",
              "  </thead>\n",
              "  <tbody>\n",
              "    <tr>\n",
              "      <th>made_sla</th>\n",
              "      <td>24985.0</td>\n",
              "      <td>0.633620</td>\n",
              "      <td>0.481825</td>\n",
              "      <td>0.0</td>\n",
              "      <td>0.0</td>\n",
              "      <td>1.0</td>\n",
              "      <td>1.0</td>\n",
              "      <td>1.0</td>\n",
              "    </tr>\n",
              "    <tr>\n",
              "      <th>contact_type</th>\n",
              "      <td>24985.0</td>\n",
              "      <td>3.000841</td>\n",
              "      <td>0.132856</td>\n",
              "      <td>0.0</td>\n",
              "      <td>3.0</td>\n",
              "      <td>3.0</td>\n",
              "      <td>3.0</td>\n",
              "      <td>4.0</td>\n",
              "    </tr>\n",
              "    <tr>\n",
              "      <th>location</th>\n",
              "      <td>24985.0</td>\n",
              "      <td>98.499380</td>\n",
              "      <td>63.882920</td>\n",
              "      <td>0.0</td>\n",
              "      <td>43.0</td>\n",
              "      <td>104.0</td>\n",
              "      <td>162.0</td>\n",
              "      <td>223.0</td>\n",
              "    </tr>\n",
              "    <tr>\n",
              "      <th>category</th>\n",
              "      <td>24985.0</td>\n",
              "      <td>26.742125</td>\n",
              "      <td>12.247451</td>\n",
              "      <td>0.0</td>\n",
              "      <td>14.0</td>\n",
              "      <td>28.0</td>\n",
              "      <td>37.0</td>\n",
              "      <td>52.0</td>\n",
              "    </tr>\n",
              "    <tr>\n",
              "      <th>subcategory</th>\n",
              "      <td>24985.0</td>\n",
              "      <td>102.323074</td>\n",
              "      <td>59.484805</td>\n",
              "      <td>0.0</td>\n",
              "      <td>70.0</td>\n",
              "      <td>71.0</td>\n",
              "      <td>125.0</td>\n",
              "      <td>244.0</td>\n",
              "    </tr>\n",
              "    <tr>\n",
              "      <th>u_symptom</th>\n",
              "      <td>24985.0</td>\n",
              "      <td>240.564939</td>\n",
              "      <td>82.633304</td>\n",
              "      <td>0.0</td>\n",
              "      <td>263.0</td>\n",
              "      <td>263.0</td>\n",
              "      <td>263.0</td>\n",
              "      <td>396.0</td>\n",
              "    </tr>\n",
              "    <tr>\n",
              "      <th>priority</th>\n",
              "      <td>24985.0</td>\n",
              "      <td>1.993076</td>\n",
              "      <td>0.301281</td>\n",
              "      <td>0.0</td>\n",
              "      <td>2.0</td>\n",
              "      <td>2.0</td>\n",
              "      <td>2.0</td>\n",
              "      <td>3.0</td>\n",
              "    </tr>\n",
              "    <tr>\n",
              "      <th>knowledge</th>\n",
              "      <td>24985.0</td>\n",
              "      <td>0.142766</td>\n",
              "      <td>0.349841</td>\n",
              "      <td>0.0</td>\n",
              "      <td>0.0</td>\n",
              "      <td>0.0</td>\n",
              "      <td>0.0</td>\n",
              "      <td>1.0</td>\n",
              "    </tr>\n",
              "    <tr>\n",
              "      <th>u_priority_confirmation</th>\n",
              "      <td>24985.0</td>\n",
              "      <td>0.768221</td>\n",
              "      <td>0.421977</td>\n",
              "      <td>0.0</td>\n",
              "      <td>1.0</td>\n",
              "      <td>1.0</td>\n",
              "      <td>1.0</td>\n",
              "      <td>1.0</td>\n",
              "    </tr>\n",
              "    <tr>\n",
              "      <th>reassignment_count</th>\n",
              "      <td>24985.0</td>\n",
              "      <td>0.941765</td>\n",
              "      <td>1.573962</td>\n",
              "      <td>0.0</td>\n",
              "      <td>0.0</td>\n",
              "      <td>0.0</td>\n",
              "      <td>1.0</td>\n",
              "      <td>27.0</td>\n",
              "    </tr>\n",
              "    <tr>\n",
              "      <th>reopen_count</th>\n",
              "      <td>24985.0</td>\n",
              "      <td>0.013368</td>\n",
              "      <td>0.149116</td>\n",
              "      <td>0.0</td>\n",
              "      <td>0.0</td>\n",
              "      <td>0.0</td>\n",
              "      <td>0.0</td>\n",
              "      <td>8.0</td>\n",
              "    </tr>\n",
              "    <tr>\n",
              "      <th>sys_mod_count</th>\n",
              "      <td>24985.0</td>\n",
              "      <td>6.694417</td>\n",
              "      <td>8.548757</td>\n",
              "      <td>1.0</td>\n",
              "      <td>2.0</td>\n",
              "      <td>4.0</td>\n",
              "      <td>8.0</td>\n",
              "      <td>129.0</td>\n",
              "    </tr>\n",
              "  </tbody>\n",
              "</table>\n",
              "</div>"
            ],
            "text/plain": [
              "                           count        mean        std  min    25%    50%  \\\n",
              "made_sla                 24985.0    0.633620   0.481825  0.0    0.0    1.0   \n",
              "contact_type             24985.0    3.000841   0.132856  0.0    3.0    3.0   \n",
              "location                 24985.0   98.499380  63.882920  0.0   43.0  104.0   \n",
              "category                 24985.0   26.742125  12.247451  0.0   14.0   28.0   \n",
              "subcategory              24985.0  102.323074  59.484805  0.0   70.0   71.0   \n",
              "u_symptom                24985.0  240.564939  82.633304  0.0  263.0  263.0   \n",
              "priority                 24985.0    1.993076   0.301281  0.0    2.0    2.0   \n",
              "knowledge                24985.0    0.142766   0.349841  0.0    0.0    0.0   \n",
              "u_priority_confirmation  24985.0    0.768221   0.421977  0.0    1.0    1.0   \n",
              "reassignment_count       24985.0    0.941765   1.573962  0.0    0.0    0.0   \n",
              "reopen_count             24985.0    0.013368   0.149116  0.0    0.0    0.0   \n",
              "sys_mod_count            24985.0    6.694417   8.548757  1.0    2.0    4.0   \n",
              "\n",
              "                           75%    max  \n",
              "made_sla                   1.0    1.0  \n",
              "contact_type               3.0    4.0  \n",
              "location                 162.0  223.0  \n",
              "category                  37.0   52.0  \n",
              "subcategory              125.0  244.0  \n",
              "u_symptom                263.0  396.0  \n",
              "priority                   2.0    3.0  \n",
              "knowledge                  0.0    1.0  \n",
              "u_priority_confirmation    1.0    1.0  \n",
              "reassignment_count         1.0   27.0  \n",
              "reopen_count               0.0    8.0  \n",
              "sys_mod_count              8.0  129.0  "
            ]
          },
          "metadata": {
            "tags": []
          },
          "execution_count": 19
        }
      ]
    },
    {
      "cell_type": "code",
      "metadata": {
        "id": "36DAavzH2MiS"
      },
      "source": [
        "#plt.figure(figsize = (20,12))\n",
        "#sns.heatmap(df.corr(), annot = True, linewidths=0.5)\n",
        "#plt.show()"
      ],
      "execution_count": 20,
      "outputs": []
    },
    {
      "cell_type": "code",
      "metadata": {
        "id": "ULTZ43Qz2Mif"
      },
      "source": [
        "#sns.pairplot(df, diag_kind= 'kde')\n",
        "#plt.show()"
      ],
      "execution_count": 21,
      "outputs": []
    },
    {
      "cell_type": "code",
      "metadata": {
        "id": "_o-Tzpy42Mis",
        "outputId": "6ad839ac-5b68-4bc4-80c3-431049bdf5c1",
        "colab": {
          "base_uri": "https://localhost:8080/",
          "height": 281
        }
      },
      "source": [
        "df[\"made_sla\"].value_counts().plot(kind='pie', autopct='%1.1f%%', title=\"made_sla proportions for only closed incidents\")"
      ],
      "execution_count": 22,
      "outputs": [
        {
          "output_type": "execute_result",
          "data": {
            "text/plain": [
              "<matplotlib.axes._subplots.AxesSubplot at 0x7ff46ed4e898>"
            ]
          },
          "metadata": {
            "tags": []
          },
          "execution_count": 22
        },
        {
          "output_type": "display_data",
          "data": {
            "image/png": "[encoded data removed]",
            "text/plain": [
              "<Figure size 432x288 with 1 Axes>"
            ]
          },
          "metadata": {
            "tags": []
          }
        }
      ]
    },
    {
      "cell_type": "code",
      "metadata": {
        "id": "cwy4fEg02Mi0"
      },
      "source": [
        "X=df.drop([\"made_sla\"],axis=1)\n",
        "y=df[\"made_sla\"]"
      ],
      "execution_count": 23,
      "outputs": []
    },
    {
      "cell_type": "code",
      "metadata": {
        "id": "SyxClbfV2Mi9",
        "outputId": "e24dda43-8190-4c70-c4a2-37e831c7717a",
        "colab": {
          "base_uri": "https://localhost:8080/"
        }
      },
      "source": [
        "X.shape"
      ],
      "execution_count": 24,
      "outputs": [
        {
          "output_type": "execute_result",
          "data": {
            "text/plain": [
              "(24985, 11)"
            ]
          },
          "metadata": {
            "tags": []
          },
          "execution_count": 24
        }
      ]
    },
    {
      "cell_type": "code",
      "metadata": {
        "id": "wKLhG6BC2MjF"
      },
      "source": [
        "from sklearn.preprocessing import StandardScaler\n",
        "\n",
        "ss = StandardScaler()\n",
        "Xs = ss.fit_transform(X)\n",
        "\n",
        "Xs = pd.DataFrame(Xs, columns= X.columns)"
      ],
      "execution_count": 25,
      "outputs": []
    },
    {
      "cell_type": "code",
      "metadata": {
        "id": "V8GepzZx2MjS"
      },
      "source": [
        "from sklearn.model_selection import train_test_split\n",
        "\n",
        "X_train, X_test, y_train, y_test = train_test_split(X,y, test_size = 0.3, random_state = 10)"
      ],
      "execution_count": 26,
      "outputs": []
    },
    {
      "cell_type": "code",
      "metadata": {
        "id": "Yqu5chfe2Mjh"
      },
      "source": [
        "from sklearn.metrics import r2_score, mean_squared_error, classification_report, confusion_matrix, accuracy_score, roc_curve, roc_auc_score"
      ],
      "execution_count": 28,
      "outputs": []
    },
    {
      "cell_type": "code",
      "metadata": {
        "id": "PYtfaiF43Wu3"
      },
      "source": [
        "#roc_auc_curve\n",
        "def plot_roc_curve(y_train, ypred_prob_train, y_test, ypred_prob_test, roc_auc_train, roc_auc_test):\n",
        "  from sklearn.metrics import roc_curve\n",
        "\n",
        "  fpr_train, tpr_train, _ = roc_curve(y_train, ypred_prob_train[:,1])\n",
        "  fpr_test, tpr_test, _ = roc_curve(y_test, ypred_prob_test[:,1])\n",
        "\n",
        "  plt.plot(fpr_train, tpr_train, label='train'+str(roc_auc_train), color='r')\n",
        "  plt.plot(fpr_test, tpr_test, label='test'+str(roc_auc_test))\n",
        "  plt.plot([1,0],[1,0], linestyle='--', color='black')\n",
        "  plt.title(\"ROC Curve\")\n",
        "\n",
        "  plt.legend(loc=4)\n",
        "  plt.show()\n",
        "\n"
      ],
      "execution_count": 29,
      "outputs": []
    },
    {
      "cell_type": "code",
      "metadata": {
        "id": "BiWnDg9I2Mjr"
      },
      "source": [
        "def fit_and_eveluate(model):\n",
        "    model.fit(X_train, y_train)\n",
        "    \n",
        "    ypred_train=model.predict(X_train)\n",
        "    ypred_test=model.predict(X_test)\n",
        "\n",
        "    rmse_train=np.sqrt(mean_squared_error(y_train,ypred_train))\n",
        "    rmse_test=np.sqrt(mean_squared_error(y_test,ypred_test))\n",
        "\n",
        "    r2_train=r2_score(y_train,ypred_train)\n",
        "    r2_test=r2_score(y_test,ypred_test)\n",
        "\n",
        "    ypred_prob_train=model.predict_proba(X_train)\n",
        "    ypred_prob_test=model.predict_proba(X_test)\n",
        "\n",
        "    roc_auc_train = roc_auc_score(y_train, ypred_prob_train[:,1])\n",
        "    roc_auc_test = roc_auc_score(y_test, ypred_prob_test[:,1])\n",
        "\n",
        "    print(f\"roc auc score (train) : {roc_auc_train}\")\n",
        "    print(f\"roc auc score (test) : {roc_auc_test}\")\n",
        "    \n",
        "    print('RMSE Train = ', rmse_train)\n",
        "    print('RMSE Test = ', rmse_test)\n",
        "    print()\n",
        "    print('Accuracy Train = ', accuracy_score(y_train,ypred_train))\n",
        "    print('Accuracy Test = ', accuracy_score(y_test,ypred_test))      \n",
        "    print()\n",
        "    print('Classification report Train:\\n')\n",
        "    print(classification_report(y_train,ypred_train))\n",
        "    print('Classification report Test:\\n')\n",
        "    print(classification_report(y_test,ypred_test))\n",
        "    print()\n",
        "    print('Confusion Matrix - Train\\n')\n",
        "    print(confusion_matrix(y_train,ypred_train))   \n",
        "    print()\n",
        "    print('Confusion Matrix - Test\\n')\n",
        "    print(confusion_matrix(y_test,ypred_test))   \n",
        "    print()\n",
        "      \n",
        "\n",
        "    plot_roc_curve(y_train, ypred_prob_train, y_test, ypred_prob_test, roc_auc_train, roc_auc_test)"
      ],
      "execution_count": 33,
      "outputs": []
    },
    {
      "cell_type": "code",
      "metadata": {
        "id": "MfA1JVx02Mjy"
      },
      "source": [
        "from sklearn.linear_model import LogisticRegression\n",
        "from sklearn.tree import DecisionTreeClassifier\n",
        "from sklearn.neighbors import KNeighborsClassifier\n",
        "from sklearn.ensemble import RandomForestClassifier\n",
        "from sklearn.ensemble import GradientBoostingClassifier\n",
        "from sklearn.model_selection import GridSearchCV"
      ],
      "execution_count": 34,
      "outputs": []
    },
    {
      "cell_type": "code",
      "metadata": {
        "id": "Ri5J1LXD2Mj9",
        "outputId": "368e7207-a14e-45a5-dd7b-2739a1a0837d",
        "colab": {
          "base_uri": "https://localhost:8080/",
          "height": 1000
        }
      },
      "source": [
        "lr = LogisticRegression()\n",
        "fit_and_eveluate(lr)"
      ],
      "execution_count": 35,
      "outputs": [
        {
          "output_type": "stream",
          "text": [
            "roc auc score (train) : 0.9259296570059861\n",
            "roc auc score (test) : 0.9216600564711912\n",
            "RMSE Train =  0.3981201179767387\n",
            "RMSE Test =  0.4083572002405007\n",
            "\n",
            "Accuracy Train =  0.8415003716621876\n",
            "Accuracy Test =  0.8332443970117396\n",
            "\n",
            "Classification report Train:\n",
            "\n",
            "              precision    recall  f1-score   support\n",
            "\n",
            "           0       0.82      0.72      0.77      6397\n",
            "           1       0.85      0.91      0.88     11092\n",
            "\n",
            "    accuracy                           0.84     17489\n",
            "   macro avg       0.84      0.82      0.82     17489\n",
            "weighted avg       0.84      0.84      0.84     17489\n",
            "\n",
            "Classification report Test:\n",
            "\n",
            "              precision    recall  f1-score   support\n",
            "\n",
            "           0       0.82      0.70      0.76      2757\n",
            "           1       0.84      0.91      0.87      4739\n",
            "\n",
            "    accuracy                           0.83      7496\n",
            "   macro avg       0.83      0.81      0.81      7496\n",
            "weighted avg       0.83      0.83      0.83      7496\n",
            "\n",
            "\n",
            "Confusion Matrix - Train\n",
            "\n",
            "[[ 4632  1765]\n",
            " [ 1007 10085]]\n",
            "\n",
            "Confusion Matrix - Test\n",
            "\n",
            "[[1941  816]\n",
            " [ 434 4305]]\n",
            "\n"
          ],
          "name": "stdout"
        },
        {
          "output_type": "display_data",
          "data": {
            "image/png": "[encoded data removed]",
            "text/plain": [
              "<Figure size 432x288 with 1 Axes>"
            ]
          },
          "metadata": {
            "tags": [],
            "needs_background": "light"
          }
        }
      ]
    },
    {
      "cell_type": "code",
      "metadata": {
        "id": "JdU_sZA_2MkE"
      },
      "source": [
        ""
      ],
      "execution_count": null,
      "outputs": []
    },
    {
      "cell_type": "code",
      "metadata": {
        "id": "kJm-1MVN2MkP",
        "outputId": "a52c080d-f151-45dd-8818-b90be1628b25",
        "colab": {
          "base_uri": "https://localhost:8080/",
          "height": 1000
        }
      },
      "source": [
        "dt = DecisionTreeClassifier()\n",
        "fit_and_eveluate(dt)"
      ],
      "execution_count": 36,
      "outputs": [
        {
          "output_type": "stream",
          "text": [
            "roc auc score (train) : 0.9990094640129781\n",
            "roc auc score (test) : 0.819197089906695\n",
            "RMSE Train =  0.13901954451933152\n",
            "RMSE Test =  0.4229602946918372\n",
            "\n",
            "Accuracy Train =  0.9806735662416376\n",
            "Accuracy Test =  0.8211045891141943\n",
            "\n",
            "Classification report Train:\n",
            "\n",
            "              precision    recall  f1-score   support\n",
            "\n",
            "           0       0.97      0.98      0.97      6397\n",
            "           1       0.99      0.98      0.98     11092\n",
            "\n",
            "    accuracy                           0.98     17489\n",
            "   macro avg       0.98      0.98      0.98     17489\n",
            "weighted avg       0.98      0.98      0.98     17489\n",
            "\n",
            "Classification report Test:\n",
            "\n",
            "              precision    recall  f1-score   support\n",
            "\n",
            "           0       0.75      0.76      0.76      2757\n",
            "           1       0.86      0.85      0.86      4739\n",
            "\n",
            "    accuracy                           0.82      7496\n",
            "   macro avg       0.81      0.81      0.81      7496\n",
            "weighted avg       0.82      0.82      0.82      7496\n",
            "\n",
            "\n",
            "Confusion Matrix - Train\n",
            "\n",
            "[[ 6255   142]\n",
            " [  196 10896]]\n",
            "\n",
            "Confusion Matrix - Test\n",
            "\n",
            "[[2105  652]\n",
            " [ 689 4050]]\n",
            "\n"
          ],
          "name": "stdout"
        },
        {
          "output_type": "display_data",
          "data": {
            "image/png": "[encoded data removed]",
            "text/plain": [
              "<Figure size 432x288 with 1 Axes>"
            ]
          },
          "metadata": {
            "tags": [],
            "needs_background": "light"
          }
        }
      ]
    },
    {
      "cell_type": "code",
      "metadata": {
        "id": "mo1LSkfQ2MkW",
        "outputId": "800756d1-a5bf-4331-8406-6b98a80353ae",
        "colab": {
          "base_uri": "https://localhost:8080/",
          "height": 1000
        }
      },
      "source": [
        "knn = KNeighborsClassifier()\n",
        "fit_and_eveluate(knn)"
      ],
      "execution_count": 37,
      "outputs": [
        {
          "output_type": "stream",
          "text": [
            "roc auc score (train) : 0.935138672219516\n",
            "roc auc score (test) : 0.8430139230853834\n",
            "RMSE Train =  0.38192029791220133\n",
            "RMSE Test =  0.4634449445714986\n",
            "\n",
            "Accuracy Train =  0.8541368860426554\n",
            "Accuracy Test =  0.7852187833511206\n",
            "\n",
            "Classification report Train:\n",
            "\n",
            "              precision    recall  f1-score   support\n",
            "\n",
            "           0       0.84      0.74      0.79      6397\n",
            "           1       0.86      0.92      0.89     11092\n",
            "\n",
            "    accuracy                           0.85     17489\n",
            "   macro avg       0.85      0.83      0.84     17489\n",
            "weighted avg       0.85      0.85      0.85     17489\n",
            "\n",
            "Classification report Test:\n",
            "\n",
            "              precision    recall  f1-score   support\n",
            "\n",
            "           0       0.75      0.63      0.68      2757\n",
            "           1       0.80      0.88      0.84      4739\n",
            "\n",
            "    accuracy                           0.79      7496\n",
            "   macro avg       0.77      0.75      0.76      7496\n",
            "weighted avg       0.78      0.79      0.78      7496\n",
            "\n",
            "\n",
            "Confusion Matrix - Train\n",
            "\n",
            "[[ 4742  1655]\n",
            " [  896 10196]]\n",
            "\n",
            "Confusion Matrix - Test\n",
            "\n",
            "[[1732 1025]\n",
            " [ 585 4154]]\n",
            "\n"
          ],
          "name": "stdout"
        },
        {
          "output_type": "display_data",
          "data": {
            "image/png": "[encoded data removed]",
            "text/plain": [
              "<Figure size 432x288 with 1 Axes>"
            ]
          },
          "metadata": {
            "tags": [],
            "needs_background": "light"
          }
        }
      ]
    },
    {
      "cell_type": "code",
      "metadata": {
        "id": "CJqBr9bA2Mkf",
        "outputId": "18bef275-4ee1-40ef-f50b-eca9e3b959c1",
        "colab": {
          "base_uri": "https://localhost:8080/",
          "height": 1000
        }
      },
      "source": [
        "rf = RandomForestClassifier(random_state = 10)\n",
        "fit_and_eveluate(rf)"
      ],
      "execution_count": 38,
      "outputs": [
        {
          "output_type": "stream",
          "text": [
            "roc auc score (train) : 0.9977681230287299\n",
            "roc auc score (test) : 0.9295023590127927\n",
            "RMSE Train =  0.13901954451933152\n",
            "RMSE Test =  0.38289884584218653\n",
            "\n",
            "Accuracy Train =  0.9806735662416376\n",
            "Accuracy Test =  0.8533884738527214\n",
            "\n",
            "Classification report Train:\n",
            "\n",
            "              precision    recall  f1-score   support\n",
            "\n",
            "           0       0.99      0.96      0.97      6397\n",
            "           1       0.98      0.99      0.98     11092\n",
            "\n",
            "    accuracy                           0.98     17489\n",
            "   macro avg       0.98      0.98      0.98     17489\n",
            "weighted avg       0.98      0.98      0.98     17489\n",
            "\n",
            "Classification report Test:\n",
            "\n",
            "              precision    recall  f1-score   support\n",
            "\n",
            "           0       0.80      0.81      0.80      2757\n",
            "           1       0.89      0.88      0.88      4739\n",
            "\n",
            "    accuracy                           0.85      7496\n",
            "   macro avg       0.84      0.84      0.84      7496\n",
            "weighted avg       0.85      0.85      0.85      7496\n",
            "\n",
            "\n",
            "Confusion Matrix - Train\n",
            "\n",
            "[[ 6149   248]\n",
            " [   90 11002]]\n",
            "\n",
            "Confusion Matrix - Test\n",
            "\n",
            "[[2226  531]\n",
            " [ 568 4171]]\n",
            "\n"
          ],
          "name": "stdout"
        },
        {
          "output_type": "display_data",
          "data": {
            "image/png": "[encoded data removed]",
            "text/plain": [
              "<Figure size 432x288 with 1 Axes>"
            ]
          },
          "metadata": {
            "tags": [],
            "needs_background": "light"
          }
        }
      ]
    },
    {
      "cell_type": "code",
      "metadata": {
        "id": "7wp2CN752Mkl",
        "outputId": "c5fabf59-5521-4d98-efc3-9f385047f5f2",
        "colab": {
          "base_uri": "https://localhost:8080/",
          "height": 1000
        }
      },
      "source": [
        "gb = GradientBoostingClassifier(loss = 'exponential')\n",
        "fit_and_eveluate(gb)"
      ],
      "execution_count": 39,
      "outputs": [
        {
          "output_type": "stream",
          "text": [
            "roc auc score (train) : 0.9396191901845443\n",
            "roc auc score (test) : 0.9321819125182553\n",
            "RMSE Train =  0.37382480196004464\n",
            "RMSE Test =  0.38688477514922004\n",
            "\n",
            "Accuracy Train =  0.8602550174395335\n",
            "Accuracy Test =  0.8503201707577375\n",
            "\n",
            "Classification report Train:\n",
            "\n",
            "              precision    recall  f1-score   support\n",
            "\n",
            "           0       0.81      0.80      0.81      6397\n",
            "           1       0.89      0.89      0.89     11092\n",
            "\n",
            "    accuracy                           0.86     17489\n",
            "   macro avg       0.85      0.85      0.85     17489\n",
            "weighted avg       0.86      0.86      0.86     17489\n",
            "\n",
            "Classification report Test:\n",
            "\n",
            "              precision    recall  f1-score   support\n",
            "\n",
            "           0       0.80      0.79      0.80      2757\n",
            "           1       0.88      0.89      0.88      4739\n",
            "\n",
            "    accuracy                           0.85      7496\n",
            "   macro avg       0.84      0.84      0.84      7496\n",
            "weighted avg       0.85      0.85      0.85      7496\n",
            "\n",
            "\n",
            "Confusion Matrix - Train\n",
            "\n",
            "[[5142 1255]\n",
            " [1189 9903]]\n",
            "\n",
            "Confusion Matrix - Test\n",
            "\n",
            "[[2178  579]\n",
            " [ 543 4196]]\n",
            "\n"
          ],
          "name": "stdout"
        },
        {
          "output_type": "display_data",
          "data": {
            "image/png": "[encoded data removed]",
            "text/plain": [
              "<Figure size 432x288 with 1 Axes>"
            ]
          },
          "metadata": {
            "tags": [],
            "needs_background": "light"
          }
        }
      ]
    },
    {
      "cell_type": "code",
      "metadata": {
        "id": "4a7PZ5QK2Mkv",
        "outputId": "4e35acaa-9153-47a4-ee55-5fd2e0d2ab63",
        "colab": {
          "base_uri": "https://localhost:8080/",
          "height": 1000
        }
      },
      "source": [
        "gb = GradientBoostingClassifier()\n",
        "fit_and_eveluate(gb)"
      ],
      "execution_count": 40,
      "outputs": [
        {
          "output_type": "stream",
          "text": [
            "roc auc score (train) : 0.940021569004268\n",
            "roc auc score (test) : 0.9322916678625713\n",
            "RMSE Train =  0.36943983416609494\n",
            "RMSE Test =  0.3846369339665454\n",
            "\n",
            "Accuracy Train =  0.8635142089313282\n",
            "Accuracy Test =  0.8520544290288153\n",
            "\n",
            "Classification report Train:\n",
            "\n",
            "              precision    recall  f1-score   support\n",
            "\n",
            "           0       0.82      0.81      0.81      6397\n",
            "           1       0.89      0.89      0.89     11092\n",
            "\n",
            "    accuracy                           0.86     17489\n",
            "   macro avg       0.85      0.85      0.85     17489\n",
            "weighted avg       0.86      0.86      0.86     17489\n",
            "\n",
            "Classification report Test:\n",
            "\n",
            "              precision    recall  f1-score   support\n",
            "\n",
            "           0       0.80      0.80      0.80      2757\n",
            "           1       0.88      0.89      0.88      4739\n",
            "\n",
            "    accuracy                           0.85      7496\n",
            "   macro avg       0.84      0.84      0.84      7496\n",
            "weighted avg       0.85      0.85      0.85      7496\n",
            "\n",
            "\n",
            "Confusion Matrix - Train\n",
            "\n",
            "[[5187 1210]\n",
            " [1177 9915]]\n",
            "\n",
            "Confusion Matrix - Test\n",
            "\n",
            "[[2192  565]\n",
            " [ 544 4195]]\n",
            "\n"
          ],
          "name": "stdout"
        },
        {
          "output_type": "display_data",
          "data": {
            "image/png": "[encoded data removed]",
            "text/plain": [
              "<Figure size 432x288 with 1 Axes>"
            ]
          },
          "metadata": {
            "tags": [],
            "needs_background": "light"
          }
        }
      ]
    },
    {
      "cell_type": "markdown",
      "metadata": {
        "id": "q2IMTDhY2Mk4"
      },
      "source": [
        "### Hyper Parameter tuning for RandomForestClassifier"
      ]
    },
    {
      "cell_type": "code",
      "metadata": {
        "id": "M6E75akU2Mk6"
      },
      "source": [
        "from scipy.stats import randint as sp_randint\n",
        "\n",
        "rfc = RandomForestClassifier()\n",
        "\n",
        "param_dist = {'n_estimators': sp_randint(50,250),\n",
        "              'max_depth': sp_randint(2,25),\n",
        "              'max_features': sp_randint(2,11),\n",
        "              'min_samples_split': sp_randint(2,25),\n",
        "              'min_samples_leaf' : sp_randint(1,50),             \n",
        "             }"
      ],
      "execution_count": 44,
      "outputs": []
    },
    {
      "cell_type": "code",
      "metadata": {
        "id": "qdu2GbZ32MlD"
      },
      "source": [
        "from sklearn.model_selection import RandomizedSearchCV"
      ],
      "execution_count": 45,
      "outputs": []
    },
    {
      "cell_type": "code",
      "metadata": {
        "id": "L5W_wPiG2MlJ",
        "outputId": "7ffc8b6a-db69-454e-ff46-d47dc4e74f36",
        "colab": {
          "base_uri": "https://localhost:8080/"
        }
      },
      "source": [
        "rsearch = RandomizedSearchCV(rfc, param_distributions = param_dist, cv = 3, scoring= 'roc_auc', n_iter=50, random_state=42)\n",
        "\n",
        "rsearch.fit(X,y)"
      ],
      "execution_count": 46,
      "outputs": [
        {
          "output_type": "execute_result",
          "data": {
            "text/plain": [
              "RandomizedSearchCV(cv=3, error_score=nan,\n",
              "                   estimator=RandomForestClassifier(bootstrap=True,\n",
              "                                                    ccp_alpha=0.0,\n",
              "                                                    class_weight=None,\n",
              "                                                    criterion='gini',\n",
              "                                                    max_depth=None,\n",
              "                                                    max_features='auto',\n",
              "                                                    max_leaf_nodes=None,\n",
              "                                                    max_samples=None,\n",
              "                                                    min_impurity_decrease=0.0,\n",
              "                                                    min_impurity_split=None,\n",
              "                                                    min_samples_leaf=1,\n",
              "                                                    min_samples_split=2,\n",
              "                                                    min_weight_fraction_leaf=0.0,\n",
              "                                                    n_estimators=100,\n",
              "                                                    n_jobs...\n",
              "                                        'min_samples_leaf': <scipy.stats._distn_infrastructure.rv_frozen object at 0x7ff467177cc0>,\n",
              "                                        'min_samples_split': <scipy.stats._distn_infrastructure.rv_frozen object at 0x7ff467177748>,\n",
              "                                        'n_estimators': <scipy.stats._distn_infrastructure.rv_frozen object at 0x7ff467250278>},\n",
              "                   pre_dispatch='2*n_jobs', random_state=42, refit=True,\n",
              "                   return_train_score=False, scoring='roc_auc', verbose=0)"
            ]
          },
          "metadata": {
            "tags": []
          },
          "execution_count": 46
        }
      ]
    },
    {
      "cell_type": "code",
      "metadata": {
        "id": "bG4euMmX2MlS",
        "outputId": "6c834404-915f-4aa2-cac0-619aad7a3284",
        "colab": {
          "base_uri": "https://localhost:8080/"
        }
      },
      "source": [
        "rsearch.best_params_"
      ],
      "execution_count": 47,
      "outputs": [
        {
          "output_type": "execute_result",
          "data": {
            "text/plain": [
              "{'max_depth': 22,\n",
              " 'max_features': 3,\n",
              " 'min_samples_leaf': 20,\n",
              " 'min_samples_split': 16,\n",
              " 'n_estimators': 237}"
            ]
          },
          "metadata": {
            "tags": []
          },
          "execution_count": 47
        }
      ]
    },
    {
      "cell_type": "code",
      "metadata": {
        "id": "UdrL2gyp2MlZ",
        "outputId": "d930efb8-fdd3-4fff-a103-700796c7d807",
        "colab": {
          "base_uri": "https://localhost:8080/",
          "height": 1000
        }
      },
      "source": [
        "rfc = RandomForestClassifier(**rsearch.best_params_, random_state = 10)\n",
        "fit_and_eveluate(rfc)"
      ],
      "execution_count": 48,
      "outputs": [
        {
          "output_type": "stream",
          "text": [
            "roc auc score (train) : 0.9450491197838241\n",
            "roc auc score (test) : 0.9311039910456783\n",
            "RMSE Train =  0.365002191194624\n",
            "RMSE Test =  0.3830730095290833\n",
            "\n",
            "Accuracy Train =  0.8667734004231231\n",
            "Accuracy Test =  0.8532550693703308\n",
            "\n",
            "Classification report Train:\n",
            "\n",
            "              precision    recall  f1-score   support\n",
            "\n",
            "           0       0.82      0.82      0.82      6397\n",
            "           1       0.90      0.89      0.89     11092\n",
            "\n",
            "    accuracy                           0.87     17489\n",
            "   macro avg       0.86      0.86      0.86     17489\n",
            "weighted avg       0.87      0.87      0.87     17489\n",
            "\n",
            "Classification report Test:\n",
            "\n",
            "              precision    recall  f1-score   support\n",
            "\n",
            "           0       0.80      0.80      0.80      2757\n",
            "           1       0.89      0.88      0.88      4739\n",
            "\n",
            "    accuracy                           0.85      7496\n",
            "   macro avg       0.84      0.84      0.84      7496\n",
            "weighted avg       0.85      0.85      0.85      7496\n",
            "\n",
            "\n",
            "Confusion Matrix - Train\n",
            "\n",
            "[[5251 1146]\n",
            " [1184 9908]]\n",
            "\n",
            "Confusion Matrix - Test\n",
            "\n",
            "[[2215  542]\n",
            " [ 558 4181]]\n",
            "\n"
          ],
          "name": "stdout"
        },
        {
          "output_type": "display_data",
          "data": {
            "image/png": "[encoded data removed]",
            "text/plain": [
              "<Figure size 432x288 with 1 Axes>"
            ]
          },
          "metadata": {
            "tags": [],
            "needs_background": "light"
          }
        }
      ]
    },
    {
      "cell_type": "markdown",
      "metadata": {
        "id": "5tepLLXn2Mll"
      },
      "source": [
        "### Hyper Parameter tuning for GradientBoostingClassifier"
      ]
    },
    {
      "cell_type": "code",
      "metadata": {
        "id": "vZIRul7X2Mlm",
        "outputId": "c92e8749-9c53-4a9b-9d08-2cf454ad376d",
        "colab": {
          "base_uri": "https://localhost:8080/"
        }
      },
      "source": [
        "param_dist = {'n_estimators': sp_randint(2,150),\n",
        "              'max_depth': sp_randint(2,25),\n",
        "              'max_features': sp_randint(2,11),\n",
        "              'min_samples_split': sp_randint(2,25),\n",
        "              'min_samples_leaf' : sp_randint(1,50),             \n",
        "             }\n",
        "\n",
        "gb = GradientBoostingClassifier()\n",
        "\n",
        "rsearch = RandomizedSearchCV(gb, param_distributions = param_dist, cv = 3, scoring= 'roc_auc', n_iter=50, random_state=42)\n",
        "\n",
        "rsearch.fit(X,y)"
      ],
      "execution_count": 49,
      "outputs": [
        {
          "output_type": "execute_result",
          "data": {
            "text/plain": [
              "RandomizedSearchCV(cv=3, error_score=nan,\n",
              "                   estimator=GradientBoostingClassifier(ccp_alpha=0.0,\n",
              "                                                        criterion='friedman_mse',\n",
              "                                                        init=None,\n",
              "                                                        learning_rate=0.1,\n",
              "                                                        loss='deviance',\n",
              "                                                        max_depth=3,\n",
              "                                                        max_features=None,\n",
              "                                                        max_leaf_nodes=None,\n",
              "                                                        min_impurity_decrease=0.0,\n",
              "                                                        min_impurity_split=None,\n",
              "                                                        min_samples_leaf=1,\n",
              "                                                        min_samples_split=2,\n",
              "                                                        min_weight_fraction_leaf=0.0,\n",
              "                                                        n_estimators=100,\n",
              "                                                        n_ite...\n",
              "                                        'min_samples_leaf': <scipy.stats._distn_infrastructure.rv_frozen object at 0x7ff467064d30>,\n",
              "                                        'min_samples_split': <scipy.stats._distn_infrastructure.rv_frozen object at 0x7ff467064e10>,\n",
              "                                        'n_estimators': <scipy.stats._distn_infrastructure.rv_frozen object at 0x7ff467038320>},\n",
              "                   pre_dispatch='2*n_jobs', random_state=42, refit=True,\n",
              "                   return_train_score=False, scoring='roc_auc', verbose=0)"
            ]
          },
          "metadata": {
            "tags": []
          },
          "execution_count": 49
        }
      ]
    },
    {
      "cell_type": "code",
      "metadata": {
        "id": "i5isRgEv2Mlt",
        "outputId": "9ee323d1-f7f7-429e-c8ca-2dcaf0652377",
        "colab": {
          "base_uri": "https://localhost:8080/"
        }
      },
      "source": [
        "rsearch.best_params_"
      ],
      "execution_count": 50,
      "outputs": [
        {
          "output_type": "execute_result",
          "data": {
            "text/plain": [
              "{'max_depth': 6,\n",
              " 'max_features': 2,\n",
              " 'min_samples_leaf': 1,\n",
              " 'min_samples_split': 20,\n",
              " 'n_estimators': 127}"
            ]
          },
          "metadata": {
            "tags": []
          },
          "execution_count": 50
        }
      ]
    },
    {
      "cell_type": "code",
      "metadata": {
        "id": "fpGMO9ax2Ml0",
        "outputId": "91742dd4-32e1-4ce4-d283-5f946eb58ce0",
        "colab": {
          "base_uri": "https://localhost:8080/"
        }
      },
      "source": [
        "rsearch.best_score_"
      ],
      "execution_count": 51,
      "outputs": [
        {
          "output_type": "execute_result",
          "data": {
            "text/plain": [
              "0.9243350541145138"
            ]
          },
          "metadata": {
            "tags": []
          },
          "execution_count": 51
        }
      ]
    },
    {
      "cell_type": "code",
      "metadata": {
        "id": "TaydVSTz2Ml9",
        "outputId": "896141b6-ed52-4c2c-8cae-cd45af0992b2",
        "colab": {
          "base_uri": "https://localhost:8080/",
          "height": 1000
        }
      },
      "source": [
        "gb = GradientBoostingClassifier(**rsearch.best_params_)\n",
        "fit_and_eveluate(gb)"
      ],
      "execution_count": 52,
      "outputs": [
        {
          "output_type": "stream",
          "text": [
            "roc auc score (train) : 0.9580886965192449\n",
            "roc auc score (test) : 0.938102080583231\n",
            "RMSE Train =  0.33391414510057016\n",
            "RMSE Test =  0.3747998398576373\n",
            "\n",
            "Accuracy Train =  0.8885013437017554\n",
            "Accuracy Test =  0.8595250800426895\n",
            "\n",
            "Classification report Train:\n",
            "\n",
            "              precision    recall  f1-score   support\n",
            "\n",
            "           0       0.85      0.84      0.85      6397\n",
            "           1       0.91      0.92      0.91     11092\n",
            "\n",
            "    accuracy                           0.89     17489\n",
            "   macro avg       0.88      0.88      0.88     17489\n",
            "weighted avg       0.89      0.89      0.89     17489\n",
            "\n",
            "Classification report Test:\n",
            "\n",
            "              precision    recall  f1-score   support\n",
            "\n",
            "           0       0.82      0.80      0.81      2757\n",
            "           1       0.88      0.90      0.89      4739\n",
            "\n",
            "    accuracy                           0.86      7496\n",
            "   macro avg       0.85      0.85      0.85      7496\n",
            "weighted avg       0.86      0.86      0.86      7496\n",
            "\n",
            "\n",
            "Confusion Matrix - Train\n",
            "\n",
            "[[ 5360  1037]\n",
            " [  913 10179]]\n",
            "\n",
            "Confusion Matrix - Test\n",
            "\n",
            "[[2199  558]\n",
            " [ 495 4244]]\n",
            "\n"
          ],
          "name": "stdout"
        },
        {
          "output_type": "display_data",
          "data": {
            "image/png": "[encoded data removed]",
            "text/plain": [
              "<Figure size 432x288 with 1 Axes>"
            ]
          },
          "metadata": {
            "tags": [],
            "needs_background": "light"
          }
        }
      ]
    },
    {
      "cell_type": "code",
      "metadata": {
        "id": "f1_BzlTb2MmK"
      },
      "source": [
        ""
      ],
      "execution_count": 52,
      "outputs": []
    }
  ]
}